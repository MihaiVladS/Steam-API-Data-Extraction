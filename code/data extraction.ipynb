{
 "cells": [
  {
   "cell_type": "code",
   "execution_count": 1,
   "id": "319a318d",
   "metadata": {},
   "outputs": [],
   "source": [
    "#import libraries needed for this proces\n",
    "import requests\n",
    "from datetime import datetime\n",
    "import numpy\n",
    "import time\n",
    "import json\n",
    "import pandas as pd\n",
    "import sys"
   ]
  },
  {
   "cell_type": "code",
   "execution_count": 2,
   "id": "005b8817",
   "metadata": {},
   "outputs": [],
   "source": [
    "#function to create an API request based on URL and  parameters\n",
    "def get_request(url, parameters=None):\n",
    "    print(\"Your request is being processed.\")\n",
    "    response = requests.get(url=url, params=parameters)\n",
    "    if response:\n",
    "        return response.json()\n",
    "        \n",
    "    else:\n",
    "        print(\"Request unsuccessful, retrying in 5 seconds.\")\n",
    "        time.sleep(5)\n",
    "        return get_request(url, parameters)\n",
    "    time.sleep(1)"
   ]
  },
  {
   "cell_type": "code",
   "execution_count": 3,
   "id": "4f80c62b",
   "metadata": {},
   "outputs": [
    {
     "name": "stdout",
     "output_type": "stream",
     "text": [
      "Your request is being processed.\n",
      "Your request has been processed successfully, call upon 'data_ids' to preview the full list of IDs and names of all currently available products on Steam as of  16/03/2022 21:10:24 .\n"
     ]
    }
   ],
   "source": [
    "#using the function to get all data id's which include appid and app name \n",
    "url = \"https://api.steampowered.com/ISteamApps/GetAppList/v2/\"\n",
    "parameters = {\"request\": all}\n",
    "data_ids = get_request(url, parameters=parameters)\n",
    "print(\"Your request has been processed successfully, call upon 'data_ids' to preview the full list of IDs and names of all currently available products on Steam as of \", datetime.now().strftime(\"%d/%m/%Y %H:%M:%S\"), \".\")"
   ]
  },
  {
   "cell_type": "code",
   "execution_count": 4,
   "id": "d36b2465",
   "metadata": {},
   "outputs": [
    {
     "name": "stdout",
     "output_type": "stream",
     "text": [
      "Creating a list of all IDs currently available on Steam\n",
      "List created sucessfully, the total number of IDs available on Steam is: 138251 .\n",
      "Call upon 'app_ids' to preview the full list of extracted IDs.\n"
     ]
    }
   ],
   "source": [
    "#Code to collect all app id's in one library\n",
    "app_ids = []\n",
    "print(\"Creating a list of all IDs currently available on Steam\")\n",
    "for item in data_ids['applist']['apps']:\n",
    "    app_ids.append(item['appid'])\n",
    "\n",
    "print(\"List created sucessfully, the total number of IDs available on Steam is:\", len(app_ids),\".\")\n",
    "print(\"Call upon 'app_ids' to preview the full list of extracted IDs.\")"
   ]
  },
  {
   "cell_type": "code",
   "execution_count": 5,
   "id": "79f83a90",
   "metadata": {
    "scrolled": true
   },
   "outputs": [
    {
     "name": "stdout",
     "output_type": "stream",
     "text": [
      "Your request is being processed.\n"
     ]
    },
    {
     "data": {
      "text/plain": [
       "{'type': 'game',\n",
       " 'name': 'Split Tactics',\n",
       " 'steam_appid': 1815720,\n",
       " 'required_age': 0,\n",
       " 'is_free': False,\n",
       " 'detailed_description': 'Split Tactics is a casual game about choices. There are a total of 13 elements in this game. The 6 basic elements are: Fire, Ice, Poison, Dark, Light and Curse. Then there are 7 more that are their combinations: Chaos (Fire+Dark), Reflection (Ice+Light), Toxic Mist (Poison+Dark), Madness (Dark+Curse), Fume Gas (Fire+Poison), Horror Breath (Ice+Dark) and Divine Flame (Light+Fire). Each element basic or not, has its own effects when applied to an enemy. Players should choose spells based on effectiveness to creatures and also to avoid making opponent the next most powerful mage. A good strategic balance is required to overcome opponent and also stay alive for the duration of the game.<h2 class=\"bb_tag\">Start of the Game</h2>Each player draws 5 cards from the reward card pile. The first enemy or trap is opened from the explore card pile. <br><br><img src=\"https://cdn.akamai.steamstatic.com/steam/apps/1815720/extras/InitHand.png?t=1640856346\" /><h2 class=\"bb_tag\">Raw Attacks</h2>A player can choose to attack based on raw power (their level on the top right corner of the screen) to any explored enemy<br><br><img src=\"https://cdn.akamai.steamstatic.com/steam/apps/1815720/extras/RawAttack.png?t=1640856346\" /><h2 class=\"bb_tag\">Elemental Attacks</h2>Not so direct and powerful as the raw attacks. However, elemental attacks are your silent power, with tricks and effects that<br>apply over time or add up to the total damage as well as effects that control enemies or make them extremely vulnerable.<br><br><img src=\"https://cdn.akamai.steamstatic.com/steam/apps/1815720/extras/ElementalAttack.png?t=1640856346\" /><h2 class=\"bb_tag\">Recycling Cards</h2>A player has the choice to recycle 2 cards from their hand for a new one. Doing so player also gains 3 life points. This is very<br>effective when working against your opponent, discarding valuable cards for them or in search of a better alternative for your plays.<br><br><img src=\"https://cdn.akamai.steamstatic.com/steam/apps/1815720/extras/Recycling.png?t=1640856346\" /><h2 class=\"bb_tag\">Equipments</h2>A card from the reward pile can either be cast or used as an equipment. An exception to this rule are the crystal cards. Equipping<br>cards can make a difference as the elemental attacks become stronger. When equipping a card player also draws from the reward pile<br>a new card of the same element type, enabling more combos.<br><br><img src=\"https://cdn.akamai.steamstatic.com/steam/apps/1815720/extras/Equipping.png?t=1640856346\" /><h2 class=\"bb_tag\">Casting Crystals</h2>A crystal can also be cast. This can be used for immediate effects as a crystal offers the choice of an AOE attacks that can destroy<br>remaining enemies and allow for quick loot or add up to the total damage.<br><br><img src=\"https://cdn.akamai.steamstatic.com/steam/apps/1815720/extras/CastCrystals.png?t=1640856346\" /><h2 class=\"bb_tag\">Casting Powerful Spells</h2>For each element type there is a special spell that deals a huge amount of damage enemies (such as an explosion) or has a very drastic result to the gameplay.<br>Each of these spells are accompanied with a Visual Effect to showcase the impact.<br><br><img src=\"https://cdn.akamai.steamstatic.com/steam/apps/1815720/extras/CastVFX.png?t=1640856346\" /><h2 class=\"bb_tag\">Restrictions</h2> Every player can only cast or equip up to 1 card from their hand each turn. Crystals can be cast or used as an equipment in addition to that number but only 1 per turn.<h2 class=\"bb_tag\">Win/Lose Condition</h2>A player wins if they reach level 25 or if the opponent had their life points become 0.',\n",
       " 'about_the_game': 'Split Tactics is a casual game about choices. There are a total of 13 elements in this game. The 6 basic elements are: Fire, Ice, Poison, Dark, Light and Curse. Then there are 7 more that are their combinations: Chaos (Fire+Dark), Reflection (Ice+Light), Toxic Mist (Poison+Dark), Madness (Dark+Curse), Fume Gas (Fire+Poison), Horror Breath (Ice+Dark) and Divine Flame (Light+Fire). Each element basic or not, has its own effects when applied to an enemy. Players should choose spells based on effectiveness to creatures and also to avoid making opponent the next most powerful mage. A good strategic balance is required to overcome opponent and also stay alive for the duration of the game.<h2 class=\"bb_tag\">Start of the Game</h2>Each player draws 5 cards from the reward card pile. The first enemy or trap is opened from the explore card pile. <br><br><img src=\"https://cdn.akamai.steamstatic.com/steam/apps/1815720/extras/InitHand.png?t=1640856346\" /><h2 class=\"bb_tag\">Raw Attacks</h2>A player can choose to attack based on raw power (their level on the top right corner of the screen) to any explored enemy<br><br><img src=\"https://cdn.akamai.steamstatic.com/steam/apps/1815720/extras/RawAttack.png?t=1640856346\" /><h2 class=\"bb_tag\">Elemental Attacks</h2>Not so direct and powerful as the raw attacks. However, elemental attacks are your silent power, with tricks and effects that<br>apply over time or add up to the total damage as well as effects that control enemies or make them extremely vulnerable.<br><br><img src=\"https://cdn.akamai.steamstatic.com/steam/apps/1815720/extras/ElementalAttack.png?t=1640856346\" /><h2 class=\"bb_tag\">Recycling Cards</h2>A player has the choice to recycle 2 cards from their hand for a new one. Doing so player also gains 3 life points. This is very<br>effective when working against your opponent, discarding valuable cards for them or in search of a better alternative for your plays.<br><br><img src=\"https://cdn.akamai.steamstatic.com/steam/apps/1815720/extras/Recycling.png?t=1640856346\" /><h2 class=\"bb_tag\">Equipments</h2>A card from the reward pile can either be cast or used as an equipment. An exception to this rule are the crystal cards. Equipping<br>cards can make a difference as the elemental attacks become stronger. When equipping a card player also draws from the reward pile<br>a new card of the same element type, enabling more combos.<br><br><img src=\"https://cdn.akamai.steamstatic.com/steam/apps/1815720/extras/Equipping.png?t=1640856346\" /><h2 class=\"bb_tag\">Casting Crystals</h2>A crystal can also be cast. This can be used for immediate effects as a crystal offers the choice of an AOE attacks that can destroy<br>remaining enemies and allow for quick loot or add up to the total damage.<br><br><img src=\"https://cdn.akamai.steamstatic.com/steam/apps/1815720/extras/CastCrystals.png?t=1640856346\" /><h2 class=\"bb_tag\">Casting Powerful Spells</h2>For each element type there is a special spell that deals a huge amount of damage enemies (such as an explosion) or has a very drastic result to the gameplay.<br>Each of these spells are accompanied with a Visual Effect to showcase the impact.<br><br><img src=\"https://cdn.akamai.steamstatic.com/steam/apps/1815720/extras/CastVFX.png?t=1640856346\" /><h2 class=\"bb_tag\">Restrictions</h2> Every player can only cast or equip up to 1 card from their hand each turn. Crystals can be cast or used as an equipment in addition to that number but only 1 per turn.<h2 class=\"bb_tag\">Win/Lose Condition</h2>A player wins if they reach level 25 or if the opponent had their life points become 0.',\n",
       " 'short_description': 'A turn-based LAN multiplayer card game where players share the same hand. Each player must make their own decisions on how to split the cards so that they leave less options to opponent and get closer to victory!',\n",
       " 'supported_languages': 'English',\n",
       " 'header_image': 'https://cdn.akamai.steamstatic.com/steam/apps/1815720/header.jpg?t=1640856346',\n",
       " 'website': None,\n",
       " 'pc_requirements': {'minimum': '<strong>Minimum:</strong><br><ul class=\"bb_ul\"><li>Requires a 64-bit processor and operating system<br></li><li><strong>OS:</strong> Windows 7<br></li><li><strong>Processor:</strong> Intel Core i3 2.00 GHz or AMD equivalent<br></li><li><strong>Memory:</strong> 4 GB RAM<br></li><li><strong>Graphics:</strong> Nvidia GeForce 950GTX or higher<br></li><li><strong>DirectX:</strong> Version 11<br></li><li><strong>Network:</strong> Broadband Internet connection<br></li><li><strong>Storage:</strong> 300 MB available space</li></ul>',\n",
       "  'recommended': '<strong>Recommended:</strong><br><ul class=\"bb_ul\"><li>Requires a 64-bit processor and operating system</li></ul>'},\n",
       " 'mac_requirements': {'minimum': '<strong>Minimum:</strong><br><ul class=\"bb_ul\"><li>Requires a 64-bit processor and operating system</li></ul>',\n",
       "  'recommended': '<strong>Recommended:</strong><br><ul class=\"bb_ul\"><li>Requires a 64-bit processor and operating system</li></ul>'},\n",
       " 'linux_requirements': {'minimum': '<strong>Minimum:</strong><br><ul class=\"bb_ul\"><li>Requires a 64-bit processor and operating system</li></ul>',\n",
       "  'recommended': '<strong>Recommended:</strong><br><ul class=\"bb_ul\"><li>Requires a 64-bit processor and operating system</li></ul>'},\n",
       " 'developers': ['Petros Giannopoulos'],\n",
       " 'publishers': ['Petros Giannopoulos'],\n",
       " 'price_overview': {'currency': 'EUR',\n",
       "  'initial': 329,\n",
       "  'final': 329,\n",
       "  'discount_percent': 0,\n",
       "  'initial_formatted': '',\n",
       "  'final_formatted': '3,29€'},\n",
       " 'packages': [652873],\n",
       " 'package_groups': [{'name': 'default',\n",
       "   'title': 'Buy Split Tactics',\n",
       "   'description': '',\n",
       "   'selection_text': 'Select a purchase option',\n",
       "   'save_text': '',\n",
       "   'display_type': 0,\n",
       "   'is_recurring_subscription': 'false',\n",
       "   'subs': [{'packageid': 652873,\n",
       "     'percent_savings_text': ' ',\n",
       "     'percent_savings': 0,\n",
       "     'option_text': 'Split Tactics - 3,29€',\n",
       "     'option_description': '',\n",
       "     'can_get_free_license': '0',\n",
       "     'is_free_license': False,\n",
       "     'price_in_cents_with_discount': 329}]}],\n",
       " 'platforms': {'windows': True, 'mac': False, 'linux': False},\n",
       " 'categories': [{'id': 1, 'description': 'Multi-player'},\n",
       "  {'id': 49, 'description': 'PvP'},\n",
       "  {'id': 47, 'description': 'LAN PvP'}],\n",
       " 'genres': [{'id': '4', 'description': 'Casual'},\n",
       "  {'id': '2', 'description': 'Strategy'}],\n",
       " 'screenshots': [{'id': 0,\n",
       "   'path_thumbnail': 'https://cdn.akamai.steamstatic.com/steam/apps/1815720/ss_2ac6e4af89e45c5287b12b35508ce3cf499c3720.600x338.jpg?t=1640856346',\n",
       "   'path_full': 'https://cdn.akamai.steamstatic.com/steam/apps/1815720/ss_2ac6e4af89e45c5287b12b35508ce3cf499c3720.1920x1080.jpg?t=1640856346'},\n",
       "  {'id': 1,\n",
       "   'path_thumbnail': 'https://cdn.akamai.steamstatic.com/steam/apps/1815720/ss_6c985c45c3f0644ba8dde0aae6ec0f0aa4f3f1f6.600x338.jpg?t=1640856346',\n",
       "   'path_full': 'https://cdn.akamai.steamstatic.com/steam/apps/1815720/ss_6c985c45c3f0644ba8dde0aae6ec0f0aa4f3f1f6.1920x1080.jpg?t=1640856346'},\n",
       "  {'id': 2,\n",
       "   'path_thumbnail': 'https://cdn.akamai.steamstatic.com/steam/apps/1815720/ss_d8a671ee8a55f317f659c47ac58869ddd1ac8dc4.600x338.jpg?t=1640856346',\n",
       "   'path_full': 'https://cdn.akamai.steamstatic.com/steam/apps/1815720/ss_d8a671ee8a55f317f659c47ac58869ddd1ac8dc4.1920x1080.jpg?t=1640856346'},\n",
       "  {'id': 3,\n",
       "   'path_thumbnail': 'https://cdn.akamai.steamstatic.com/steam/apps/1815720/ss_5aa285624af0ce1db0a8d570a93f62a659c6ce96.600x338.jpg?t=1640856346',\n",
       "   'path_full': 'https://cdn.akamai.steamstatic.com/steam/apps/1815720/ss_5aa285624af0ce1db0a8d570a93f62a659c6ce96.1920x1080.jpg?t=1640856346'},\n",
       "  {'id': 4,\n",
       "   'path_thumbnail': 'https://cdn.akamai.steamstatic.com/steam/apps/1815720/ss_4d74265970f926f53d555b0f1b2b5bf695a7c42e.600x338.jpg?t=1640856346',\n",
       "   'path_full': 'https://cdn.akamai.steamstatic.com/steam/apps/1815720/ss_4d74265970f926f53d555b0f1b2b5bf695a7c42e.1920x1080.jpg?t=1640856346'}],\n",
       " 'movies': [{'id': 256859750,\n",
       "   'name': 'Gameplay Trailer',\n",
       "   'thumbnail': 'https://cdn.akamai.steamstatic.com/steam/apps/256859750/movie.293x165.jpg?t=1637020101',\n",
       "   'webm': {'480': 'http://cdn.akamai.steamstatic.com/steam/apps/256859750/movie480_vp9.webm?t=1637020101',\n",
       "    'max': 'http://cdn.akamai.steamstatic.com/steam/apps/256859750/movie_max_vp9.webm?t=1637020101'},\n",
       "   'mp4': {'480': 'http://cdn.akamai.steamstatic.com/steam/apps/256859750/movie480.mp4?t=1637020101',\n",
       "    'max': 'http://cdn.akamai.steamstatic.com/steam/apps/256859750/movie_max.mp4?t=1637020101'},\n",
       "   'highlight': True}],\n",
       " 'release_date': {'coming_soon': False, 'date': '30 Dec, 2021'},\n",
       " 'support_info': {'url': '', 'email': 'splittactics@gmail.com'},\n",
       " 'background': 'https://cdn.akamai.steamstatic.com/steam/apps/1815720/page_bg_generated_v6b.jpg?t=1640856346',\n",
       " 'background_raw': 'https://cdn.akamai.steamstatic.com/steam/apps/1815720/page.bg.jpg?t=1640856346',\n",
       " 'content_descriptors': {'ids': [], 'notes': None}}"
      ]
     },
     "execution_count": 5,
     "metadata": {},
     "output_type": "execute_result"
    }
   ],
   "source": [
    "# example code that collects the details of 1 app by appid  \n",
    "url = \"http://store.steampowered.com/api/appdetails/\"\n",
    "parameters = {\"appids\": \"1815720\"}\n",
    "app_data = get_request(url, parameters=parameters)\n",
    "app_data[\"1815720\"]['data']\n"
   ]
  },
  {
   "cell_type": "code",
   "execution_count": 7,
   "id": "6000d527",
   "metadata": {
    "scrolled": true
   },
   "outputs": [
    {
     "name": "stdout",
     "output_type": "stream",
     "text": [
      "Your request is being processed.\n",
      "Processing data pertaining to Steam ID:216938\n",
      "Your request is being processed.\n",
      "Processing data pertaining to Steam ID:660010\n",
      "Your request is being processed.\n",
      "Processing data pertaining to Steam ID:660130\n",
      "Your request is being processed.\n",
      "Processing data pertaining to Steam ID:1118314\n",
      "Your request is being processed.\n",
      "Processing data pertaining to Steam ID:1275822\n",
      "Your request is being processed.\n",
      "Processing data pertaining to Steam ID:1343832\n",
      "Your request is being processed.\n",
      "Processing data pertaining to Steam ID:1828741\n",
      "Your request is being processed.\n",
      "Processing data pertaining to Steam ID:662172\n",
      "Your request is being processed.\n",
      "Processing data pertaining to Steam ID:1360782\n",
      "Your request is being processed.\n",
      "Processing data pertaining to Steam ID:1820332\n",
      "Your request is being processed.\n",
      "Processing data pertaining to Steam ID:1815690\n",
      "Your request is being processed.\n",
      "Processing data pertaining to Steam ID:1815720\n",
      "Your request is being processed.\n",
      "Processing data pertaining to Steam ID:1815730\n",
      "Your request is being processed.\n",
      "Processing data pertaining to Steam ID:1815740\n",
      "Your request is being processed.\n",
      "Processing data pertaining to Steam ID:1815750\n",
      "Your request is being processed.\n",
      "Processing data pertaining to Steam ID:1815770\n",
      "Your request is being processed.\n",
      "Processing data pertaining to Steam ID:1815800\n",
      "Your request is being processed.\n",
      "Processing data pertaining to Steam ID:1815820\n",
      "Your request is being processed.\n",
      "Processing data pertaining to Steam ID:1815860\n",
      "Your request is being processed.\n",
      "Processing data pertaining to Steam ID:1815870\n"
     ]
    }
   ],
   "source": [
    "## collecting the data with a for loop that checks if the response was a succes = True. and than takes the data attribute \n",
    "dataframe = pd.DataFrame()\n",
    "dataframe_categories = pd.DataFrame()\n",
    "amount_app_ids = 10\n",
    "counter = 1   \n",
    "\n",
    "for i in app_ids: \n",
    "    url = \"http://store.steampowered.com/api/appdetails/\"\n",
    "    parameters = {\"appids\": {i}}\n",
    "    app_data = get_request(url, parameters=parameters)\n",
    "    id = str(i)\n",
    "    print(\"Processing data pertaining to Steam ID:\"+id)\n",
    "    response = app_data[id]\n",
    "    succes = response[\"success\"]\n",
    "    if (succes): \n",
    "        data_json = response[\"data\"]\n",
    "        steam_appid = data_json[\"steam_appid\"]\n",
    "        result = pd.json_normalize(data_json)\n",
    "        dataframe = pd.concat([dataframe, result],ignore_index= True)\n",
    "        try:\n",
    "            categories = pd.json_normalize(data_json,record_path = ['categories'], meta = [\"steam_appid\"])\n",
    "            dataframe_categories = pd.concat([dataframe_categories,categories],ignore_index= True)\n",
    "        except:\n",
    "            pass\n",
    "        counter = counter + 1 \n",
    "    if (counter > amount_app_ids):\n",
    "        break           \n"
   ]
  },
  {
   "cell_type": "code",
   "execution_count": 13,
   "id": "5ae891bd",
   "metadata": {},
   "outputs": [
    {
     "ename": "FileNotFoundError",
     "evalue": "[Errno 2] No such file or directory: '..steam-API\\\\data\\\\raw_df.xlsx'",
     "output_type": "error",
     "traceback": [
      "\u001b[1;31m---------------------------------------------------------------------------\u001b[0m",
      "\u001b[1;31mFileNotFoundError\u001b[0m                         Traceback (most recent call last)",
      "\u001b[1;32mC:\\Users\\ROBESE~1\\AppData\\Local\\Temp/ipykernel_2940/1914273043.py\u001b[0m in \u001b[0;36m<module>\u001b[1;34m\u001b[0m\n\u001b[1;32m----> 1\u001b[1;33m \u001b[0mdataframe\u001b[0m\u001b[1;33m.\u001b[0m\u001b[0mto_excel\u001b[0m\u001b[1;33m(\u001b[0m\u001b[1;34m\"..steam-API\\\\data\\\\raw_df.xlsx\"\u001b[0m\u001b[1;33m)\u001b[0m\u001b[1;33m\u001b[0m\u001b[1;33m\u001b[0m\u001b[0m\n\u001b[0m\u001b[0;32m      2\u001b[0m \u001b[0mdataframe_categories\u001b[0m\u001b[1;33m.\u001b[0m\u001b[0mto_excel\u001b[0m\u001b[1;33m(\u001b[0m\u001b[1;34m\"..steam-API\\\\data\\\\categories_df.xlsx\"\u001b[0m\u001b[1;33m)\u001b[0m\u001b[1;33m\u001b[0m\u001b[1;33m\u001b[0m\u001b[0m\n",
      "\u001b[1;32m~\\anaconda3\\lib\\site-packages\\pandas\\core\\generic.py\u001b[0m in \u001b[0;36mto_excel\u001b[1;34m(self, excel_writer, sheet_name, na_rep, float_format, columns, header, index, index_label, startrow, startcol, engine, merge_cells, encoding, inf_rep, verbose, freeze_panes, storage_options)\u001b[0m\n\u001b[0;32m   2282\u001b[0m             \u001b[0minf_rep\u001b[0m\u001b[1;33m=\u001b[0m\u001b[0minf_rep\u001b[0m\u001b[1;33m,\u001b[0m\u001b[1;33m\u001b[0m\u001b[1;33m\u001b[0m\u001b[0m\n\u001b[0;32m   2283\u001b[0m         )\n\u001b[1;32m-> 2284\u001b[1;33m         formatter.write(\n\u001b[0m\u001b[0;32m   2285\u001b[0m             \u001b[0mexcel_writer\u001b[0m\u001b[1;33m,\u001b[0m\u001b[1;33m\u001b[0m\u001b[1;33m\u001b[0m\u001b[0m\n\u001b[0;32m   2286\u001b[0m             \u001b[0msheet_name\u001b[0m\u001b[1;33m=\u001b[0m\u001b[0msheet_name\u001b[0m\u001b[1;33m,\u001b[0m\u001b[1;33m\u001b[0m\u001b[1;33m\u001b[0m\u001b[0m\n",
      "\u001b[1;32m~\\anaconda3\\lib\\site-packages\\pandas\\io\\formats\\excel.py\u001b[0m in \u001b[0;36mwrite\u001b[1;34m(self, writer, sheet_name, startrow, startcol, freeze_panes, engine, storage_options)\u001b[0m\n\u001b[0;32m    832\u001b[0m             \u001b[1;31m# error: Cannot instantiate abstract class 'ExcelWriter' with abstract\u001b[0m\u001b[1;33m\u001b[0m\u001b[1;33m\u001b[0m\u001b[0m\n\u001b[0;32m    833\u001b[0m             \u001b[1;31m# attributes 'engine', 'save', 'supported_extensions' and 'write_cells'\u001b[0m\u001b[1;33m\u001b[0m\u001b[1;33m\u001b[0m\u001b[0m\n\u001b[1;32m--> 834\u001b[1;33m             writer = ExcelWriter(  # type: ignore[abstract]\n\u001b[0m\u001b[0;32m    835\u001b[0m                 \u001b[0mwriter\u001b[0m\u001b[1;33m,\u001b[0m \u001b[0mengine\u001b[0m\u001b[1;33m=\u001b[0m\u001b[0mengine\u001b[0m\u001b[1;33m,\u001b[0m \u001b[0mstorage_options\u001b[0m\u001b[1;33m=\u001b[0m\u001b[0mstorage_options\u001b[0m\u001b[1;33m\u001b[0m\u001b[1;33m\u001b[0m\u001b[0m\n\u001b[0;32m    836\u001b[0m             )\n",
      "\u001b[1;32m~\\anaconda3\\lib\\site-packages\\pandas\\io\\excel\\_xlsxwriter.py\u001b[0m in \u001b[0;36m__init__\u001b[1;34m(self, path, engine, date_format, datetime_format, mode, storage_options, if_sheet_exists, engine_kwargs, **kwargs)\u001b[0m\n\u001b[0;32m    189\u001b[0m             \u001b[1;32mraise\u001b[0m \u001b[0mValueError\u001b[0m\u001b[1;33m(\u001b[0m\u001b[1;34m\"Append mode is not supported with xlsxwriter!\"\u001b[0m\u001b[1;33m)\u001b[0m\u001b[1;33m\u001b[0m\u001b[1;33m\u001b[0m\u001b[0m\n\u001b[0;32m    190\u001b[0m \u001b[1;33m\u001b[0m\u001b[0m\n\u001b[1;32m--> 191\u001b[1;33m         super().__init__(\n\u001b[0m\u001b[0;32m    192\u001b[0m             \u001b[0mpath\u001b[0m\u001b[1;33m,\u001b[0m\u001b[1;33m\u001b[0m\u001b[1;33m\u001b[0m\u001b[0m\n\u001b[0;32m    193\u001b[0m             \u001b[0mengine\u001b[0m\u001b[1;33m=\u001b[0m\u001b[0mengine\u001b[0m\u001b[1;33m,\u001b[0m\u001b[1;33m\u001b[0m\u001b[1;33m\u001b[0m\u001b[0m\n",
      "\u001b[1;32m~\\anaconda3\\lib\\site-packages\\pandas\\io\\excel\\_base.py\u001b[0m in \u001b[0;36m__init__\u001b[1;34m(self, path, engine, date_format, datetime_format, mode, storage_options, if_sheet_exists, engine_kwargs, **kwargs)\u001b[0m\n\u001b[0;32m    923\u001b[0m         \u001b[0mself\u001b[0m\u001b[1;33m.\u001b[0m\u001b[0mhandles\u001b[0m \u001b[1;33m=\u001b[0m \u001b[0mIOHandles\u001b[0m\u001b[1;33m(\u001b[0m\u001b[0mcast\u001b[0m\u001b[1;33m(\u001b[0m\u001b[0mBuffer\u001b[0m\u001b[1;33m,\u001b[0m \u001b[0mpath\u001b[0m\u001b[1;33m)\u001b[0m\u001b[1;33m,\u001b[0m \u001b[0mcompression\u001b[0m\u001b[1;33m=\u001b[0m\u001b[1;33m{\u001b[0m\u001b[1;34m\"copression\"\u001b[0m\u001b[1;33m:\u001b[0m \u001b[1;32mNone\u001b[0m\u001b[1;33m}\u001b[0m\u001b[1;33m)\u001b[0m\u001b[1;33m\u001b[0m\u001b[1;33m\u001b[0m\u001b[0m\n\u001b[0;32m    924\u001b[0m         \u001b[1;32mif\u001b[0m \u001b[1;32mnot\u001b[0m \u001b[0misinstance\u001b[0m\u001b[1;33m(\u001b[0m\u001b[0mpath\u001b[0m\u001b[1;33m,\u001b[0m \u001b[0mExcelWriter\u001b[0m\u001b[1;33m)\u001b[0m\u001b[1;33m:\u001b[0m\u001b[1;33m\u001b[0m\u001b[1;33m\u001b[0m\u001b[0m\n\u001b[1;32m--> 925\u001b[1;33m             self.handles = get_handle(\n\u001b[0m\u001b[0;32m    926\u001b[0m                 \u001b[0mpath\u001b[0m\u001b[1;33m,\u001b[0m \u001b[0mmode\u001b[0m\u001b[1;33m,\u001b[0m \u001b[0mstorage_options\u001b[0m\u001b[1;33m=\u001b[0m\u001b[0mstorage_options\u001b[0m\u001b[1;33m,\u001b[0m \u001b[0mis_text\u001b[0m\u001b[1;33m=\u001b[0m\u001b[1;32mFalse\u001b[0m\u001b[1;33m\u001b[0m\u001b[1;33m\u001b[0m\u001b[0m\n\u001b[0;32m    927\u001b[0m             )\n",
      "\u001b[1;32m~\\anaconda3\\lib\\site-packages\\pandas\\io\\common.py\u001b[0m in \u001b[0;36mget_handle\u001b[1;34m(path_or_buf, mode, encoding, compression, memory_map, is_text, errors, storage_options)\u001b[0m\n\u001b[0;32m    709\u001b[0m         \u001b[1;32melse\u001b[0m\u001b[1;33m:\u001b[0m\u001b[1;33m\u001b[0m\u001b[1;33m\u001b[0m\u001b[0m\n\u001b[0;32m    710\u001b[0m             \u001b[1;31m# Binary mode\u001b[0m\u001b[1;33m\u001b[0m\u001b[1;33m\u001b[0m\u001b[0m\n\u001b[1;32m--> 711\u001b[1;33m             \u001b[0mhandle\u001b[0m \u001b[1;33m=\u001b[0m \u001b[0mopen\u001b[0m\u001b[1;33m(\u001b[0m\u001b[0mhandle\u001b[0m\u001b[1;33m,\u001b[0m \u001b[0mioargs\u001b[0m\u001b[1;33m.\u001b[0m\u001b[0mmode\u001b[0m\u001b[1;33m)\u001b[0m\u001b[1;33m\u001b[0m\u001b[1;33m\u001b[0m\u001b[0m\n\u001b[0m\u001b[0;32m    712\u001b[0m         \u001b[0mhandles\u001b[0m\u001b[1;33m.\u001b[0m\u001b[0mappend\u001b[0m\u001b[1;33m(\u001b[0m\u001b[0mhandle\u001b[0m\u001b[1;33m)\u001b[0m\u001b[1;33m\u001b[0m\u001b[1;33m\u001b[0m\u001b[0m\n\u001b[0;32m    713\u001b[0m \u001b[1;33m\u001b[0m\u001b[0m\n",
      "\u001b[1;31mFileNotFoundError\u001b[0m: [Errno 2] No such file or directory: '..steam-API\\\\data\\\\raw_df.xlsx'"
     ]
    }
   ],
   "source": [
    "#write the dataframes to an xlsx file\n",
    "\n",
    "dataframe.to_excel(\"..steam-API\\\\data\\\\raw_df.xlsx\")\n",
    "dataframe_categories.to_excel(\"..steam-API\\\\data\\\\categories_df.xlsx\")"
   ]
  },
  {
   "cell_type": "code",
   "execution_count": 12,
   "id": "34f44d81",
   "metadata": {},
   "outputs": [
    {
     "data": {
      "text/plain": [
       "'\\ndetails = {}\\n\\nfor i in app_ids:\\n  id = str(i)\\n  if id not in details:\\n     // get data\\n\\n     if(success):\\n       // put data in details\\n       details[id] = data\\n\\n'"
      ]
     },
     "execution_count": 12,
     "metadata": {},
     "output_type": "execute_result"
    }
   ],
   "source": [
    "### example to create a dictionary that checks if the id is already in the dictionary and then if not in dictionary get data \n",
    "\n",
    "\"\"\"\n",
    "details = {}\n",
    "\n",
    "for i in app_ids:\n",
    "  id = str(i)\n",
    "  if id not in details:\n",
    "     // get data\n",
    "\n",
    "     if(success):\n",
    "       // put data in details\n",
    "       details[id] = data\n",
    "\n",
    "\"\"\"     "
   ]
  }
 ],
 "metadata": {
  "kernelspec": {
   "display_name": "Python 3 (ipykernel)",
   "language": "python",
   "name": "python3"
  },
  "language_info": {
   "codemirror_mode": {
    "name": "ipython",
    "version": 3
   },
   "file_extension": ".py",
   "mimetype": "text/x-python",
   "name": "python",
   "nbconvert_exporter": "python",
   "pygments_lexer": "ipython3",
   "version": "3.9.7"
  }
 },
 "nbformat": 4,
 "nbformat_minor": 5
}
