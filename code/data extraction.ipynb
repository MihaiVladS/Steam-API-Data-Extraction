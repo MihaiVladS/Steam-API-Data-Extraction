{
 "cells": [
  {
   "cell_type": "code",
   "execution_count": 12,
   "id": "319a318d",
   "metadata": {},
   "outputs": [],
   "source": [
    "#import libraries needed for this proces\n",
    "import requests\n",
    "from datetime import datetime\n",
    "import numpy\n",
    "import time\n",
    "import json\n",
    "from pathlib import Path\n",
    "import pandas as pd\n",
    "import sys"
   ]
  },
  {
   "cell_type": "code",
   "execution_count": 2,
   "id": "005b8817",
   "metadata": {},
   "outputs": [],
   "source": [
    "#function to create an API request based on URL and  parameters\n",
    "def get_request(url, parameters=None):\n",
    "    print(\"Your request is being processed.\")\n",
    "    response = requests.get(url=url, params=parameters)\n",
    "    if response:\n",
    "        return response.json()\n",
    "        \n",
    "    else:\n",
    "        print(\"Request unsuccessful, retrying in 5 seconds.\")\n",
    "        time.sleep(5)\n",
    "        return get_request(url, parameters)\n",
    "    time.sleep(1)"
   ]
  },
  {
   "cell_type": "code",
   "execution_count": 3,
   "id": "4f80c62b",
   "metadata": {},
   "outputs": [
    {
     "name": "stdout",
     "output_type": "stream",
     "text": [
      "Your request is being processed.\n",
      "Your request has been processed successfully, call upon 'data_ids' to preview the full list of IDs and names of all currently available products on Steam as of  20/03/2022 15:48:12 .\n"
     ]
    }
   ],
   "source": [
    "#using the function to get all data id's which include appid and app name \n",
    "url = \"https://api.steampowered.com/ISteamApps/GetAppList/v2/\"\n",
    "parameters = {\"request\": all}\n",
    "data_ids = get_request(url, parameters=parameters)\n",
    "print(\"Your request has been processed successfully, call upon 'data_ids' to preview the full list of IDs and names of all currently available products on Steam as of \", datetime.now().strftime(\"%d/%m/%Y %H:%M:%S\"), \".\")"
   ]
  },
  {
   "cell_type": "code",
   "execution_count": 21,
   "id": "d36b2465",
   "metadata": {},
   "outputs": [
    {
     "name": "stdout",
     "output_type": "stream",
     "text": [
      "Creating a list of all IDs currently available on Steam\n",
      "List created sucessfully, the total number of IDs available on Steam is: 138483 .\n",
      "Call upon 'app_ids' to preview the full list of extracted IDs.\n",
      "Saving the Steam ID list in the 'data' folder as 'steam_id_list.csv'.\n",
      "File 'steam_id_list.csv' has been saved successfully!\n"
     ]
    }
   ],
   "source": [
    "#Code to collect all app id's in one library\n",
    "app_ids = []\n",
    "print(\"Creating a list of all IDs currently available on Steam\")\n",
    "for item in data_ids['applist']['apps']:\n",
    "    app_ids.append(item['appid'])\n",
    "\n",
    "print(\"List created sucessfully, the total number of IDs available on Steam is:\", len(app_ids),\".\")\n",
    "print(\"Call upon 'app_ids' to preview the full list of extracted IDs.\")\n",
    "\n",
    "print(\"Saving the Steam ID list in the 'data' folder as 'steam_id_list.csv'.\")\n",
    "numpy.savetxt(\"../gen/steam_id_list.csv\", app_ids,delimiter =\", \", fmt ='% s')\n",
    "print(\"File 'steam_id_list.csv' has been saved successfully!\")\n"
   ]
  },
  {
   "cell_type": "code",
   "execution_count": null,
   "id": "6000d527",
   "metadata": {
    "scrolled": true
   },
   "outputs": [],
   "source": [
    "## collecting the data with a for loop that checks if the response was a succes = True. and than takes the data attribute \n",
    "# feedback: seperate the raw data collection, and then do the parsing  \n",
    "# add timestamp \n",
    "# add logic that the id's arent run multiple times \n",
    "\n",
    "amount_app_ids = 10\n",
    "counter = 1 \n",
    "dataframe_raw = pd.DataFrame()\n",
    "dataframe_categories = pd.DataFrame()\n",
    "dataframe_package_groups =  pd.DataFrame()\n",
    "dataframe_genres =  pd.DataFrame()\n",
    "dataframe_screenshots =  pd.DataFrame()\n",
    "dataframe_movies =  pd.DataFrame()\n",
    "dataframe_achievements = pd.DataFrame()\n",
    "\n",
    "for i in app_ids: \n",
    "    url = \"http://store.steampowered.com/api/appdetails/\"\n",
    "    parameters = {\"appids\": {i}}\n",
    "    app_data = get_request(url, parameters=parameters)\n",
    "    id = str(i)\n",
    "    print(\"Processing data pertaining to Steam ID:\"+id)\n",
    "    response = app_data[id]\n",
    "    succes = response[\"success\"]\n",
    "    if (succes): \n",
    "        data_json = response[\"data\"]\n",
    "        result = pd.json_normalize(data_json)\n",
    "        dataframe_raw = pd.concat([dataframe_raw, result],ignore_index= True)    \n",
    "        try:\n",
    "            categories = pd.json_normalize(data_json,record_path = ['categories'], meta = [\"steam_appid\"], errors=\"ignore\")\n",
    "            dataframe_categories = pd.concat([dataframe_categories,categories], ignore_index= True)\n",
    "        except:\n",
    "            pass\n",
    "        try:\n",
    "            package_groups = pd.json_normalize(data_json,record_path = ['package_groups'], meta = [\"steam_appid\"], errors=\"ignore\")\n",
    "            dataframe_package_groups = pd.concat([dataframe_package_groups,package_groups], ignore_index= True)\n",
    "        except:\n",
    "            pass\n",
    "        try:\n",
    "            genres = pd.json_normalize(data_json,record_path = ['genres'], meta = [\"steam_appid\"], errors=\"ignore\")\n",
    "            dataframe_genres = pd.concat([dataframe_genres,genres], ignore_index= True)\n",
    "        except:\n",
    "            pass\n",
    "        try:\n",
    "            screenshots = pd.json_normalize(data_json,record_path = ['screenshots'], meta = [\"steam_appid\"], errors=\"ignore\")\n",
    "            dataframe_screenshots = pd.concat([dataframe_screenshots,screenshots], ignore_index= True)\n",
    "        except:\n",
    "            pass\n",
    "        try:\n",
    "            movies = pd.json_normalize(data_json,record_path = ['movies'], meta = [\"steam_appid\"], errors=\"ignore\")\n",
    "            dataframe_movies = pd.concat([dataframe_movies,movies], ignore_index= True)\n",
    "        except:\n",
    "            pass\n",
    "        try:\n",
    "            achievements = pd.json_normalize(data_json,record_path = ['achievements.highlighted'], meta = [\"steam_appid\"], errors=\"ignore\")\n",
    "            dataframe_achievements = pd.concat([dataframe_achievements,achievements], ignore_index= True)\n",
    "        except:\n",
    "            pass\n",
    "        counter = counter + 1 \n",
    "    if (counter > amount_app_ids):\n",
    "        break\n",
    "\n",
    "\n",
    "print(\"Saving all data about the Steam ID's in the 'gen' folder as 'steam_data_collection'.\")\n",
    "numpy.savetxt(\"../gen/full_steam_data.json\", dataframe_raw, delimiter=\", \", fmt = '% s')\n",
    "print(\"File 'full_steam_data.json' has been saved successfully!\")\n",
    "\n",
    "\n"
   ]
  },
  {
   "cell_type": "code",
   "execution_count": 13,
   "id": "295f7140",
   "metadata": {},
   "outputs": [
    {
     "name": "stdout",
     "output_type": "stream",
     "text": [
      "Your request is being processed.\n",
      "Processing data pertaining to Steam ID:216938\n",
      "Your request is being processed.\n",
      "Processing data pertaining to Steam ID:660010\n",
      "Your request is being processed.\n",
      "Processing data pertaining to Steam ID:660130\n",
      "Your request is being processed.\n",
      "Processing data pertaining to Steam ID:1118314\n",
      "Your request is being processed.\n",
      "Processing data pertaining to Steam ID:1275822\n",
      "Your request is being processed.\n",
      "Processing data pertaining to Steam ID:1343832\n",
      "Your request is being processed.\n",
      "Processing data pertaining to Steam ID:1828741\n",
      "Your request is being processed.\n",
      "Processing data pertaining to Steam ID:662172\n",
      "Your request is being processed.\n",
      "Processing data pertaining to Steam ID:1360782\n",
      "Your request is being processed.\n",
      "Processing data pertaining to Steam ID:1820332\n",
      "Your request is being processed.\n",
      "Processing data pertaining to Steam ID:1815690\n",
      "Your request is being processed.\n",
      "Processing data pertaining to Steam ID:1815720\n",
      "Your request is being processed.\n",
      "Processing data pertaining to Steam ID:1815730\n",
      "Your request is being processed.\n",
      "Processing data pertaining to Steam ID:1815740\n",
      "Your request is being processed.\n",
      "Processing data pertaining to Steam ID:1815770\n",
      "Your request is being processed.\n",
      "Processing data pertaining to Steam ID:1815800\n",
      "Your request is being processed.\n",
      "Processing data pertaining to Steam ID:1815820\n",
      "Your request is being processed.\n",
      "Processing data pertaining to Steam ID:1815860\n",
      "Your request is being processed.\n",
      "Processing data pertaining to Steam ID:1815870\n",
      "Your request is being processed.\n",
      "Processing data pertaining to Steam ID:1815880\n"
     ]
    }
   ],
   "source": [
    "## collecting the data with a for loop that checks if the response was a succes = True. and than takes the data attribute \n",
    "# feedback: seperate the raw data collection, and then do the parsing  \n",
    "# add timestamp \n",
    "# add logic that the id's arent run multiple times \n",
    "\n",
    "import json\n",
    "\n",
    "def get_data_from_api(amount_app_ids = 100):\n",
    "    counter = 1 \n",
    "    dataframe_raw = pd.DataFrame()\n",
    "    \n",
    "    for i in app_ids: \n",
    "        url = \"http://store.steampowered.com/api/appdetails/\"\n",
    "        parameters = {\"appids\": {i}}\n",
    "        app_data = get_request(url, parameters=parameters)\n",
    "        id = str(i)\n",
    "        print(\"Processing data pertaining to Steam ID:\"+id)\n",
    "        response = app_data[id]\n",
    "        succes = response[\"success\"]\n",
    "        if (succes): \n",
    "            data_json = response[\"data\"]\n",
    "            # enrich it\n",
    "            data_json['collection_details'] = {'created_by': 'our_scraper',\n",
    "                                                'created_at': 12345678}\n",
    "            f = open('raw_data.json','a',encoding='utf-8')\n",
    "            f.write(json.dumps(data_json)+'\\n')\n",
    "            f.close()\n",
    "            #result = pd.json_normalize(data_json)\n",
    "            #dataframe_raw = pd.concat([dataframe_raw, result],ignore_index= True)    \n",
    "            counter = counter + 1 \n",
    "        if (counter > amount_app_ids):\n",
    "            break\n",
    "        #return dataframe_raw\n",
    "\n",
    "get_data_from_api(10) \n",
    "#dataframe_raw\n"
   ]
  },
  {
   "cell_type": "code",
   "execution_count": null,
   "id": "a66a31eb",
   "metadata": {},
   "outputs": [],
   "source": [
    "# split up in seperate functions: get raw data, parse data, \n",
    "\n",
    "dataframe_raw\n",
    "#dataframe_categories\n",
    "#dataframe_package_groups \n",
    "#dataframe_genres \n",
    "#dataframe_screenshots\n",
    "#dataframe_movies \n",
    "#dataframe_achievements "
   ]
  },
  {
   "cell_type": "code",
   "execution_count": 37,
   "id": "5ae891bd",
   "metadata": {},
   "outputs": [],
   "source": [
    "#write the dataframes to an xlsx file\n",
    "dataframe_raw.to_excel(\"D:\\\\1. Studie\\\\Master files\\\\dPrep-oDCM\\\\Git repo\\\\Steam-API\\\\steam-API\\\\data\\\\dataraw_df.xlsx\")\n",
    "dataframe_categories.to_excel(\"D:\\\\1. Studie\\\\Master files\\\\dPrep-oDCM\\\\Git repo\\\\Steam-API\\\\steam-API\\\\data\\\\datacategories_df.xlsx\")"
   ]
  },
  {
   "cell_type": "code",
   "execution_count": 12,
   "id": "34f44d81",
   "metadata": {},
   "outputs": [
    {
     "data": {
      "text/plain": [
       "'\\ndetails = {}\\n\\nfor i in app_ids:\\n  id = str(i)\\n  if id not in details:\\n     // get data\\n\\n     if(success):\\n       // put data in details\\n       details[id] = data\\n\\n'"
      ]
     },
     "execution_count": 12,
     "metadata": {},
     "output_type": "execute_result"
    }
   ],
   "source": [
    "### example to create a dictionary that checks if the id is already in the dictionary and then if not in dictionary get data \n",
    "\n",
    "\"\"\"\n",
    "details = {}\n",
    "\n",
    "for i in app_ids:\n",
    "  id = str(i)\n",
    "  if id not in details:\n",
    "     // get data\n",
    "\n",
    "     if(success):\n",
    "       // put data in details\n",
    "       details[id] = data\n",
    "\n",
    "\"\"\"     "
   ]
  }
 ],
 "metadata": {
  "kernelspec": {
   "display_name": "Python 3 (ipykernel)",
   "language": "python",
   "name": "python3"
  },
  "language_info": {
   "codemirror_mode": {
    "name": "ipython",
    "version": 3
   },
   "file_extension": ".py",
   "mimetype": "text/x-python",
   "name": "python",
   "nbconvert_exporter": "python",
   "pygments_lexer": "ipython3",
   "version": "3.9.7"
  }
 },
 "nbformat": 4,
 "nbformat_minor": 5
}
