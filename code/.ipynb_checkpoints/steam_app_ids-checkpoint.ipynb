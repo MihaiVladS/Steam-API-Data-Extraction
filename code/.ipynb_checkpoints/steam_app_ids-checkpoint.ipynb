{
 "cells": [
  {
   "cell_type": "code",
   "execution_count": 10,
   "id": "b481d971",
   "metadata": {},
   "outputs": [
    {
     "name": "stdout",
     "output_type": "stream",
     "text": [
      "As a first step of this data collection process it is neccesary to collect all of the application IDs for all available products on Steam. This is because the Steam API data regarding available software can only be collected by looping through each corresponding Steam ID. This overall step is essential in the creation of the dataset. Python will now import neccesary modules to run this script\n",
      "Successfully imported 'requests'.\n",
      "Successfully imported 'datetime'.\n",
      "Successfully imported 'numpy'.\n",
      "Successfully imported 'time'.\n"
     ]
    }
   ],
   "source": [
    "print(\"As a first step of this data collection process it is neccesary to collect all of the application IDs for all available products on Steam. This is because the Steam API data regarding available software can only be collected by looping through each corresponding Steam ID. This overall step is essential in the creation of the dataset. Python will now import neccesary modules to run this script\")\n",
    "import requests\n",
    "print(\"Successfully imported 'requests'.\")\n",
    "from datetime import datetime\n",
    "print(\"Successfully imported 'datetime'.\")\n",
    "import numpy\n",
    "print(\"Successfully imported 'numpy'.\")\n",
    "import time\n",
    "print(\"Successfully imported 'time'.\")"
   ]
  },
  {
   "cell_type": "code",
   "execution_count": 11,
   "id": "a315f57e",
   "metadata": {},
   "outputs": [
    {
     "name": "stdout",
     "output_type": "stream",
     "text": [
      "Your request is being processed.\n",
      "Your request has been processed successfully, call upon 'data_ids' to preview the full list of IDs and names of all currently available products on Steam as of  05/03/2022 17:06:18 .\n"
     ]
    }
   ],
   "source": [
    "def get_request(url, parameters=None):\n",
    "    print(\"Your request is being processed.\")\n",
    "    response = requests.get(url=url, params=parameters)\n",
    "    if response:\n",
    "        return response.json()\n",
    "    else:\n",
    "        print(\"Request unsuccessful, retrying in 5 seconds.\")\n",
    "        time.sleep(5)\n",
    "        return get_request(url, parameters)\n",
    "    time.sleep(5)\n",
    "\n",
    "url = \"https://api.steampowered.com/ISteamApps/GetAppList/v2/\"\n",
    "parameters = {\"request\": \"all\"}\n",
    "data_ids = get_request(url, parameters=parameters)\n",
    "print(\"Your request has been processed successfully, call upon 'data_ids' to preview the full list of IDs and names of all currently available products on Steam as of \", datetime.now().strftime(\"%d/%m/%Y %H:%M:%S\"), \".\")"
   ]
  },
  {
   "cell_type": "code",
   "execution_count": 12,
   "id": "b2e25714",
   "metadata": {
    "scrolled": true
   },
   "outputs": [
    {
     "name": "stdout",
     "output_type": "stream",
     "text": [
      "Creating a list of all IDs currently available on Steam\n",
      "List created sucessfully, the total number of IDs available on Steam is: 137692 .\n",
      "Call upon 'app_ids' to preview the full list of extracted IDs.\n"
     ]
    }
   ],
   "source": [
    "app_ids = []\n",
    "print(\"Creating a list of all IDs currently available on Steam\")\n",
    "for item in data_ids['applist']['apps']:\n",
    "    app_ids.append(item['appid'])\n",
    "print(\"List created sucessfully, the total number of IDs available on Steam is:\", len(app_ids),\".\")\n",
    "print(\"Call upon 'app_ids' to preview the full list of extracted IDs.\")"
   ]
  },
  {
   "cell_type": "code",
   "execution_count": null,
   "id": "453c5d92",
   "metadata": {},
   "outputs": [],
   "source": [
    "print(\"Saving the Steam ID list in the 'data' folder as 'steam_id_list.csv'.\")\n",
    "numpy.savetxt(\"../data/steam_id_list.csv\", app_ids,delimiter =\", \", fmt ='% s')\n",
    "print(\"File 'steam_id_list.csv' has been saved successfully!\")"
   ]
  }
 ],
 "metadata": {
  "kernelspec": {
   "display_name": "Python 3 (ipykernel)",
   "language": "python",
   "name": "python3"
  },
  "language_info": {
   "codemirror_mode": {
    "name": "ipython",
    "version": 3
   },
   "file_extension": ".py",
   "mimetype": "text/x-python",
   "name": "python",
   "nbconvert_exporter": "python",
   "pygments_lexer": "ipython3",
   "version": "3.7.6"
  }
 },
 "nbformat": 4,
 "nbformat_minor": 5
}
