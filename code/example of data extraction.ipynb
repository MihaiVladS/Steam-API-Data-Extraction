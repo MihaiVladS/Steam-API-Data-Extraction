{
 "cells": [
  {
   "cell_type": "code",
   "execution_count": 50,
   "id": "319a318d",
   "metadata": {},
   "outputs": [],
   "source": [
    "#import libraries needed for this proces\n",
    "import requests\n",
    "from datetime import datetime\n",
    "import numpy\n",
    "import time\n",
    "import json"
   ]
  },
  {
   "cell_type": "code",
   "execution_count": null,
   "id": "005b8817",
   "metadata": {},
   "outputs": [],
   "source": [
    "#function to create an API request based on URL and  parameters\n",
    "def get_request(url, parameters=None):\n",
    "    print(\"Your request is being processed.\")\n",
    "    response = requests.get(url=url, params=parameters)\n",
    "    if response:\n",
    "        return response.json()\n",
    "    else:\n",
    "        print(\"Request unsuccessful, retrying in 5 seconds.\")\n",
    "        time.sleep(5)\n",
    "        return get_request(url, parameters)\n",
    "    time.sleep(5)\n",
    "\n",
    "\n",
    "\n",
    "#using the function to get all data id's which include appid and app name \n",
    "url = \"https://api.steampowered.com/ISteamApps/GetAppList/v2/\"\n",
    "parameters = {\"request\": \"all\"}\n",
    "data_ids = get_request(url, parameters=parameters)\n",
    "print(\"Your request has been processed successfully, call upon 'data_ids' to preview the full list of IDs and names of all currently available products on Steam as of \", datetime.now().strftime(\"%d/%m/%Y %H:%M:%S\"), \".\")\n",
    "\n",
    "data_ids"
   ]
  },
  {
   "cell_type": "code",
   "execution_count": 69,
   "id": "d36b2465",
   "metadata": {},
   "outputs": [
    {
     "name": "stdout",
     "output_type": "stream",
     "text": [
      "Creating a list of all IDs currently available on Steam\n",
      "List created sucessfully, the total number of IDs available on Steam is: 137878 .\n",
      "Call upon 'app_ids' to preview the full list of extracted IDs.\n",
      "137878\n"
     ]
    }
   ],
   "source": [
    "#Code to collect all app id's in one library\n",
    "app_ids = []\n",
    "print(\"Creating a list of all IDs currently available on Steam\")\n",
    "for item in data_ids['applist']['apps']:\n",
    "    app_ids.append(item['appid'])\n",
    "\n",
    "print(\"List created sucessfully, the total number of IDs available on Steam is:\", len(app_ids),\".\")\n",
    "print(\"Call upon 'app_ids' to preview the full list of extracted IDs.\")\n",
    "\n"
   ]
  },
  {
   "cell_type": "code",
   "execution_count": 64,
   "id": "79f83a90",
   "metadata": {},
   "outputs": [
    {
     "name": "stdout",
     "output_type": "stream",
     "text": [
      "Your request is being processed.\n"
     ]
    },
    {
     "data": {
      "text/plain": [
       "{'1337020': {'success': True,\n",
       "  'data': {'type': 'game',\n",
       "   'name': 'The Last Surface',\n",
       "   'steam_appid': 1337020,\n",
       "   'required_age': 0,\n",
       "   'is_free': False,\n",
       "   'detailed_description': '<h2 class=\"bb_tag\">About this game</h2>Under the 45 ° oblique downward light, some squares will appear on the platform. Click the place where the shadow should exist according to the place where the squares are placed.<br>Depending on your imagination and observation, decide where the shadow should exist according to the rules. You can even draw some drafts to help you complete the imagination, such as:<br><img src=\"https://cdn.akamai.steamstatic.com/steam/apps/1337020/extras/caotu.jpg?t=1592214131\" /><br>When going to the next level, the situation will become more and more complicated. You can click the red sun in the upper left corner to display how many unfinished and redundant you havenumber. Of course, this prompt can only be given once for each level.<br><img src=\"https://cdn.akamai.steamstatic.com/steam/apps/1337020/extras/caotu1.jpg?t=1592214131\" /><h2 class=\"bb_tag\">About features</h2>*Observation and imagination<br>*Reasoning of spatial graph<br>*Minimalist style and quiet music',\n",
       "   'about_the_game': '<h2 class=\"bb_tag\">About this game</h2>Under the 45 ° oblique downward light, some squares will appear on the platform. Click the place where the shadow should exist according to the place where the squares are placed.<br>Depending on your imagination and observation, decide where the shadow should exist according to the rules. You can even draw some drafts to help you complete the imagination, such as:<br><img src=\"https://cdn.akamai.steamstatic.com/steam/apps/1337020/extras/caotu.jpg?t=1592214131\" /><br>When going to the next level, the situation will become more and more complicated. You can click the red sun in the upper left corner to display how many unfinished and redundant you havenumber. Of course, this prompt can only be given once for each level.<br><img src=\"https://cdn.akamai.steamstatic.com/steam/apps/1337020/extras/caotu1.jpg?t=1592214131\" /><h2 class=\"bb_tag\">About features</h2>*Observation and imagination<br>*Reasoning of spatial graph<br>*Minimalist style and quiet music',\n",
       "   'short_description': 'This is a short minimal,relaxed game',\n",
       "   'supported_languages': 'English<strong>*</strong>, French<strong>*</strong>, Italian<strong>*</strong>, German<strong>*</strong>, Spanish - Spain<strong>*</strong>, Danish<strong>*</strong>, Ukrainian<strong>*</strong>, Russian<strong>*</strong>, Bulgarian<strong>*</strong>, Hungarian<strong>*</strong>, Turkish<strong>*</strong>, Greek<strong>*</strong>, Norwegian<strong>*</strong>, Czech<strong>*</strong>, Japanese<strong>*</strong>, Polish<strong>*</strong>, Thai<strong>*</strong>, Swedish<strong>*</strong>, Simplified Chinese<strong>*</strong>, Traditional Chinese<strong>*</strong>, Romanian<strong>*</strong>, Finnish<strong>*</strong>, Dutch<strong>*</strong>, Portuguese<strong>*</strong>, Portuguese - Brazil<strong>*</strong>, Spanish - Latin America<strong>*</strong>, Vietnamese<strong>*</strong>, Arabic<strong>*</strong>, Korean<strong>*</strong><br><strong>*</strong>languages with full audio support',\n",
       "   'header_image': 'https://cdn.akamai.steamstatic.com/steam/apps/1337020/header.jpg?t=1592214131',\n",
       "   'website': None,\n",
       "   'pc_requirements': {'minimum': '<strong>Minimum:</strong><br><ul class=\"bb_ul\"><li><strong>OS:</strong> Windows 7<br></li><li><strong>Processor:</strong> 2 Ghz Dual Core<br></li><li><strong>Memory:</strong> 2 GB RAM<br></li><li><strong>Graphics:</strong> Graphics card supporting DirectX 9.0c<br></li><li><strong>DirectX:</strong> Version 9.0c<br></li><li><strong>Storage:</strong> 200 MB available space<br></li><li><strong>Sound Card:</strong> Any</li></ul>'},\n",
       "   'mac_requirements': [],\n",
       "   'linux_requirements': [],\n",
       "   'developers': ['WANG DANHUI'],\n",
       "   'publishers': ['WANG DANHUI'],\n",
       "   'price_overview': {'currency': 'EUR',\n",
       "    'initial': 79,\n",
       "    'final': 79,\n",
       "    'discount_percent': 0,\n",
       "    'initial_formatted': '',\n",
       "    'final_formatted': '0,79€'},\n",
       "   'packages': [467260],\n",
       "   'package_groups': [{'name': 'default',\n",
       "     'title': 'Buy The Last Surface',\n",
       "     'description': '',\n",
       "     'selection_text': 'Select a purchase option',\n",
       "     'save_text': '',\n",
       "     'display_type': 0,\n",
       "     'is_recurring_subscription': 'false',\n",
       "     'subs': [{'packageid': 467260,\n",
       "       'percent_savings_text': ' ',\n",
       "       'percent_savings': 0,\n",
       "       'option_text': 'The Last Surface - 0,79€',\n",
       "       'option_description': '',\n",
       "       'can_get_free_license': '0',\n",
       "       'is_free_license': False,\n",
       "       'price_in_cents_with_discount': 79}]}],\n",
       "   'platforms': {'windows': True, 'mac': False, 'linux': False},\n",
       "   'categories': [{'id': 2, 'description': 'Single-player'},\n",
       "    {'id': 22, 'description': 'Steam Achievements'}],\n",
       "   'genres': [{'id': '4', 'description': 'Casual'},\n",
       "    {'id': '23', 'description': 'Indie'}],\n",
       "   'screenshots': [{'id': 0,\n",
       "     'path_thumbnail': 'https://cdn.akamai.steamstatic.com/steam/apps/1337020/ss_1f08fbbd320ecaa90b552053d1caa03036ac71c8.600x338.jpg?t=1592214131',\n",
       "     'path_full': 'https://cdn.akamai.steamstatic.com/steam/apps/1337020/ss_1f08fbbd320ecaa90b552053d1caa03036ac71c8.1920x1080.jpg?t=1592214131'},\n",
       "    {'id': 1,\n",
       "     'path_thumbnail': 'https://cdn.akamai.steamstatic.com/steam/apps/1337020/ss_411bd61d94fe82dedb0d1bd45ad73a5deccc3760.600x338.jpg?t=1592214131',\n",
       "     'path_full': 'https://cdn.akamai.steamstatic.com/steam/apps/1337020/ss_411bd61d94fe82dedb0d1bd45ad73a5deccc3760.1920x1080.jpg?t=1592214131'},\n",
       "    {'id': 2,\n",
       "     'path_thumbnail': 'https://cdn.akamai.steamstatic.com/steam/apps/1337020/ss_040b70b0b25db132061fab6b7bf0eba1d00c3e8c.600x338.jpg?t=1592214131',\n",
       "     'path_full': 'https://cdn.akamai.steamstatic.com/steam/apps/1337020/ss_040b70b0b25db132061fab6b7bf0eba1d00c3e8c.1920x1080.jpg?t=1592214131'},\n",
       "    {'id': 3,\n",
       "     'path_thumbnail': 'https://cdn.akamai.steamstatic.com/steam/apps/1337020/ss_21db11bd3b3b449c52151217aaf1d3dcab414570.600x338.jpg?t=1592214131',\n",
       "     'path_full': 'https://cdn.akamai.steamstatic.com/steam/apps/1337020/ss_21db11bd3b3b449c52151217aaf1d3dcab414570.1920x1080.jpg?t=1592214131'},\n",
       "    {'id': 4,\n",
       "     'path_thumbnail': 'https://cdn.akamai.steamstatic.com/steam/apps/1337020/ss_1712972d8ae9bb749ce720e95989e9690adc7760.600x338.jpg?t=1592214131',\n",
       "     'path_full': 'https://cdn.akamai.steamstatic.com/steam/apps/1337020/ss_1712972d8ae9bb749ce720e95989e9690adc7760.1920x1080.jpg?t=1592214131'},\n",
       "    {'id': 5,\n",
       "     'path_thumbnail': 'https://cdn.akamai.steamstatic.com/steam/apps/1337020/ss_99444f9fa58b3bb009cf75779cc6fd096d06089b.600x338.jpg?t=1592214131',\n",
       "     'path_full': 'https://cdn.akamai.steamstatic.com/steam/apps/1337020/ss_99444f9fa58b3bb009cf75779cc6fd096d06089b.1920x1080.jpg?t=1592214131'}],\n",
       "   'movies': [{'id': 256786833,\n",
       "     'name': 'TLS',\n",
       "     'thumbnail': 'https://cdn.akamai.steamstatic.com/steam/apps/256786833/movie.293x165.jpg?t=1591072489',\n",
       "     'webm': {'480': 'http://cdn.akamai.steamstatic.com/steam/apps/256786833/movie480_vp9.webm?t=1591072489',\n",
       "      'max': 'http://cdn.akamai.steamstatic.com/steam/apps/256786833/movie_max_vp9.webm?t=1591072489'},\n",
       "     'mp4': {'480': 'http://cdn.akamai.steamstatic.com/steam/apps/256786833/movie480.mp4?t=1591072489',\n",
       "      'max': 'http://cdn.akamai.steamstatic.com/steam/apps/256786833/movie_max.mp4?t=1591072489'},\n",
       "     'highlight': True}],\n",
       "   'achievements': {'total': 51,\n",
       "    'highlighted': [{'name': '\"1\"',\n",
       "      'path': 'https://cdn.akamai.steamstatic.com/steamcommunity/public/images/apps/1337020/1511eb0f78d7532842554b2a80848a4ca1665553.jpg'},\n",
       "     {'name': '\"2\"',\n",
       "      'path': 'https://cdn.akamai.steamstatic.com/steamcommunity/public/images/apps/1337020/81e1e7f748fb69b56aa4804c1c3115601ddd26cb.jpg'},\n",
       "     {'name': '\"3\"',\n",
       "      'path': 'https://cdn.akamai.steamstatic.com/steamcommunity/public/images/apps/1337020/b30a489d3bd4e58d24689e9c8560de9e40369558.jpg'},\n",
       "     {'name': '\"4\"',\n",
       "      'path': 'https://cdn.akamai.steamstatic.com/steamcommunity/public/images/apps/1337020/7ca4ab5723cf29f96d0b7c7ea7e64aaf8883b23c.jpg'},\n",
       "     {'name': '\"5\"',\n",
       "      'path': 'https://cdn.akamai.steamstatic.com/steamcommunity/public/images/apps/1337020/ee43bf61ff77257bd3677160cbac9f0a048dcc3d.jpg'},\n",
       "     {'name': '\"6\"',\n",
       "      'path': 'https://cdn.akamai.steamstatic.com/steamcommunity/public/images/apps/1337020/050422e1e8f1286893f83b1a1647734f43a73951.jpg'},\n",
       "     {'name': '\"7\"',\n",
       "      'path': 'https://cdn.akamai.steamstatic.com/steamcommunity/public/images/apps/1337020/a2e4cc095fcd33ea280d56437c38554a30e8f18c.jpg'},\n",
       "     {'name': '\"8\"',\n",
       "      'path': 'https://cdn.akamai.steamstatic.com/steamcommunity/public/images/apps/1337020/24290aa9b0b1c4926f9414be36a39628d463a11d.jpg'},\n",
       "     {'name': '\"9\"',\n",
       "      'path': 'https://cdn.akamai.steamstatic.com/steamcommunity/public/images/apps/1337020/229ed2d81c525009c80bce135f70aa653f2b7c77.jpg'},\n",
       "     {'name': '\"10\"',\n",
       "      'path': 'https://cdn.akamai.steamstatic.com/steamcommunity/public/images/apps/1337020/451b6ec0fb6e0923330150445d3ba0db20aa62a0.jpg'}]},\n",
       "   'release_date': {'coming_soon': False, 'date': '15 Jun, 2020'},\n",
       "   'support_info': {'url': '', 'email': 'dhr0118@Outlook.com'},\n",
       "   'background': 'https://cdn.akamai.steamstatic.com/steam/apps/1337020/page_bg_generated_v6b.jpg?t=1592214131',\n",
       "   'background_raw': 'https://cdn.akamai.steamstatic.com/steam/apps/1337020/page.bg.jpg?t=1592214131',\n",
       "   'content_descriptors': {'ids': [], 'notes': None}}}}"
      ]
     },
     "execution_count": 64,
     "metadata": {},
     "output_type": "execute_result"
    }
   ],
   "source": [
    "#code that collects the details of 1 app by appid  \n",
    "url = \"http://store.steampowered.com/api/appdetails/\"\n",
    "parameters = {\"appids\": \"1337020\"}\n",
    "app_data = get_request(url, parameters=parameters)\n",
    "app_data\n",
    "\n"
   ]
  },
  {
   "cell_type": "code",
   "execution_count": null,
   "id": "1cc94a78",
   "metadata": {},
   "outputs": [],
   "source": [
    "#it finaly loops\n",
    "#however it gives some succes and some false values. so we need to build in a check if succes = false -> then next. if succes = True -> write the data to a Csv \n",
    "\n",
    "for item in app_ids:\n",
    "    url_appdetails= \"http://store.steampowered.com/api/appdetails/\"\n",
    "    parameters = {\"appids\": {item}}\n",
    "    app_details = get_request(url_appdetails, parameters=parameters)\n",
    "    \n",
    "    print(app_details)\n",
    "    \n",
    "    \n"
   ]
  },
  {
   "cell_type": "code",
   "execution_count": 89,
   "id": "c2f18628",
   "metadata": {},
   "outputs": [
    {
     "name": "stdout",
     "output_type": "stream",
     "text": [
      "Your request is being processed.\n",
      "Your request is being processed.\n",
      "Your request is being processed.\n",
      "Your request is being processed.\n",
      "Your request is being processed.\n",
      "Your request is being processed.\n",
      "Your request is being processed.\n",
      "Your request is being processed.\n",
      "Your request is being processed.\n",
      "Your request is being processed.\n",
      "{'type': 'game', 'name': 'Life of A Yandere Simp', 'steam_appid': 1479020, 'required_age': 0, 'is_free': False, 'detailed_description': 'Life of a Yandere Simp is a simulation game inside a university where you, a simp, have to find out who is interested in your love interest and eliminate them. You can find out who is interested by asking around and doing tasks. After killing all potential rivals, you will be able to confess to your love interest. If you accidentally kill the wrong people enough times though you will lose.', 'about_the_game': 'Life of a Yandere Simp is a simulation game inside a university where you, a simp, have to find out who is interested in your love interest and eliminate them. You can find out who is interested by asking around and doing tasks. After killing all potential rivals, you will be able to confess to your love interest. If you accidentally kill the wrong people enough times though you will lose.', 'short_description': 'Life of a Yandere Simp is a simulation game inside a university where you, a simp, have to find out who is interested in your love interest and eliminate them.', 'supported_languages': 'English<strong>*</strong><br><strong>*</strong>languages with full audio support', 'header_image': 'https://cdn.akamai.steamstatic.com/steam/apps/1479020/header.jpg?t=1622158688', 'website': 'https://www.youtube.com/c/bacchus_yo', 'pc_requirements': {'minimum': '<strong>Minimum:</strong><br><ul class=\"bb_ul\"><li>Requires a 64-bit processor and operating system<br></li><li><strong>OS:</strong> Windows 10<br></li><li><strong>Processor:</strong> i5 or newer<br></li><li><strong>Memory:</strong> 4 GB RAM<br></li><li><strong>Graphics:</strong> GT 710 or newer<br></li><li><strong>DirectX:</strong> Version 11<br></li><li><strong>Storage:</strong> 1200 MB available space</li></ul>', 'recommended': '<strong>Recommended:</strong><br><ul class=\"bb_ul\"><li>Requires a 64-bit processor and operating system</li></ul>'}, 'mac_requirements': {'minimum': '<strong>Minimum:</strong><br><ul class=\"bb_ul\"><li>Requires a 64-bit processor and operating system</li></ul>', 'recommended': '<strong>Recommended:</strong><br><ul class=\"bb_ul\"><li>Requires a 64-bit processor and operating system</li></ul>'}, 'linux_requirements': {'minimum': '<strong>Minimum:</strong><br><ul class=\"bb_ul\"><li>Requires a 64-bit processor and operating system</li></ul>', 'recommended': '<strong>Recommended:</strong><br><ul class=\"bb_ul\"><li>Requires a 64-bit processor and operating system</li></ul>'}, 'developers': ['Bacchus'], 'publishers': ['Bacchus'], 'price_overview': {'currency': 'EUR', 'initial': 239, 'final': 239, 'discount_percent': 0, 'initial_formatted': '', 'final_formatted': '2,39€'}, 'packages': [520913], 'package_groups': [{'name': 'default', 'title': 'Buy Life of A Yandere Simp', 'description': '', 'selection_text': 'Select a purchase option', 'save_text': '', 'display_type': 0, 'is_recurring_subscription': 'false', 'subs': [{'packageid': 520913, 'percent_savings_text': ' ', 'percent_savings': 0, 'option_text': 'Life of A Yandere Simp - 2,39€', 'option_description': '', 'can_get_free_license': '0', 'is_free_license': False, 'price_in_cents_with_discount': 239}]}], 'platforms': {'windows': True, 'mac': False, 'linux': False}, 'categories': [{'id': 2, 'description': 'Single-player'}], 'genres': [{'id': '25', 'description': 'Adventure'}, {'id': '4', 'description': 'Casual'}, {'id': '23', 'description': 'Indie'}, {'id': '28', 'description': 'Simulation'}], 'screenshots': [{'id': 0, 'path_thumbnail': 'https://cdn.akamai.steamstatic.com/steam/apps/1479020/ss_3b751fd261bb8f72fb8812cddeb634c27f3cf4ae.600x338.jpg?t=1622158688', 'path_full': 'https://cdn.akamai.steamstatic.com/steam/apps/1479020/ss_3b751fd261bb8f72fb8812cddeb634c27f3cf4ae.1920x1080.jpg?t=1622158688'}, {'id': 1, 'path_thumbnail': 'https://cdn.akamai.steamstatic.com/steam/apps/1479020/ss_ed6a8403313910697fd8d6b0f03ac7da6d30e817.600x338.jpg?t=1622158688', 'path_full': 'https://cdn.akamai.steamstatic.com/steam/apps/1479020/ss_ed6a8403313910697fd8d6b0f03ac7da6d30e817.1920x1080.jpg?t=1622158688'}, {'id': 2, 'path_thumbnail': 'https://cdn.akamai.steamstatic.com/steam/apps/1479020/ss_2c13e969c169b4bef9cea29ee190d9f2bf869142.600x338.jpg?t=1622158688', 'path_full': 'https://cdn.akamai.steamstatic.com/steam/apps/1479020/ss_2c13e969c169b4bef9cea29ee190d9f2bf869142.1920x1080.jpg?t=1622158688'}, {'id': 3, 'path_thumbnail': 'https://cdn.akamai.steamstatic.com/steam/apps/1479020/ss_7741fc7f46fbccab7f33ee69628a91dce3653915.600x338.jpg?t=1622158688', 'path_full': 'https://cdn.akamai.steamstatic.com/steam/apps/1479020/ss_7741fc7f46fbccab7f33ee69628a91dce3653915.1920x1080.jpg?t=1622158688'}, {'id': 4, 'path_thumbnail': 'https://cdn.akamai.steamstatic.com/steam/apps/1479020/ss_a6b9a0bb9858e8ed2763786170ce9d086e21c6e5.600x338.jpg?t=1622158688', 'path_full': 'https://cdn.akamai.steamstatic.com/steam/apps/1479020/ss_a6b9a0bb9858e8ed2763786170ce9d086e21c6e5.1920x1080.jpg?t=1622158688'}], 'movies': [{'id': 256815150, 'name': 'trailerv2', 'thumbnail': 'https://cdn.akamai.steamstatic.com/steam/apps/256815150/movie.293x165.jpg?t=1608772285', 'webm': {'480': 'http://cdn.akamai.steamstatic.com/steam/apps/256815150/movie480_vp9.webm?t=1608772285', 'max': 'http://cdn.akamai.steamstatic.com/steam/apps/256815150/movie_max_vp9.webm?t=1608772285'}, 'mp4': {'480': 'http://cdn.akamai.steamstatic.com/steam/apps/256815150/movie480.mp4?t=1608772285', 'max': 'http://cdn.akamai.steamstatic.com/steam/apps/256815150/movie_max.mp4?t=1608772285'}, 'highlight': True}], 'release_date': {'coming_soon': False, 'date': '24 Dec, 2020'}, 'support_info': {'url': '', 'email': 'bacchusbusinessemail@gmail.com'}, 'background': 'https://cdn.akamai.steamstatic.com/steam/apps/1479020/page_bg_generated_v6b.jpg?t=1622158688', 'background_raw': 'https://cdn.akamai.steamstatic.com/steam/apps/1479020/page.bg.jpg?t=1622158688', 'content_descriptors': {'ids': [2, 5], 'notes': 'Game contains violence in the form or killing game characters that look like humans. Killing uses weapons such as but not limited to knife, greatsword, gun, guitar. Non realistic blood appears when you kill someone and will appear when attacking as particles and will make your character jacket red with blood which you will have to clean in  the shower but the character does not take their clothes off while showering so there is no nudity.'}}\n"
     ]
    }
   ],
   "source": [
    "# Using a while loop \n",
    "\n",
    "\n",
    "counter = 1\n",
    "while counter <= 10:\n",
    "    \n",
    "    for i in app_ids: \n",
    "        url = \"http://store.steampowered.com/api/appdetails/\"\n",
    "        parameters = {\"appids\": {i}}\n",
    "        app_data = get_request(url, parameters=parameters)       \n",
    "        id = str(i)\n",
    "        response = app_data[id]\n",
    "        succes = response[\"success\"]\n",
    "        if (succes): \n",
    "            data_json = response[\"data\"]\n",
    "            print(data_json)\n",
    "        counter = counter + 1 \n",
    "        if (counter > 10):\n",
    "            break      \n",
    "\n",
    "        "
   ]
  },
  {
   "cell_type": "code",
   "execution_count": null,
   "metadata": {},
   "outputs": [],
   "source": [
    "## using for -> if statement \n",
    "counter = 1    \n",
    "for i in app_ids: \n",
    "    url = \"http://store.steampowered.com/api/appdetails/\"\n",
    "    parameters = {\"appids\": {i}}\n",
    "    app_data = get_request(url, parameters=parameters)       \n",
    "    id = str(i)\n",
    "    succes = str(app_data[id]['success'])\n",
    "    print(i)\n",
    "    print(app_data[id]['success'])\n",
    "\n",
    "    counter = counter + 1 \n",
    "    if (counter > 10):\n",
    "        break      \n"
   ]
  },
  {
   "cell_type": "code",
   "execution_count": null,
   "id": "34f44d81",
   "metadata": {},
   "outputs": [],
   "source": []
  },
  {
   "cell_type": "code",
   "execution_count": null,
   "id": "7e6001cf",
   "metadata": {},
   "outputs": [],
   "source": [
    "\n",
    "### example to create a dictionary that checks if the id is already in the dictionary and then if not in dictionary get data \n",
    "all_app_data = {}\n",
    "\n",
    "for i in app_ids:\n",
    "  id = str(i)\n",
    "  if id not in all_app_data:\n",
    "     // haal data op\n",
    "\n",
    "     if(success):\n",
    "       // Zet data in all_app_data\n",
    "       all_app_data[id] = data"
   ]
  }
 ],
 "metadata": {
  "kernelspec": {
   "display_name": "Python 3 (ipykernel)",
   "language": "python",
   "name": "python3"
  },
  "language_info": {
   "codemirror_mode": {
    "name": "ipython",
    "version": 3
   },
   "file_extension": ".py",
   "mimetype": "text/x-python",
   "name": "python",
   "nbconvert_exporter": "python",
   "pygments_lexer": "ipython3",
   "version": "3.7.6"
  }
 },
 "nbformat": 4,
 "nbformat_minor": 5
}
