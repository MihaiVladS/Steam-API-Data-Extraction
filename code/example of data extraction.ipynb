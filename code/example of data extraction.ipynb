{
 "cells": [
  {
   "cell_type": "code",
   "execution_count": 2,
   "id": "319a318d",
   "metadata": {},
   "outputs": [],
   "source": [
    "#import libraries needed for this proces\n",
    "import requests\n",
    "from datetime import datetime\n",
    "import numpy\n",
    "import time"
   ]
  },
  {
   "cell_type": "code",
   "execution_count": null,
   "id": "005b8817",
   "metadata": {},
   "outputs": [],
   "source": [
    "\n",
    "#function to create an API request based on URL and  parameters\n",
    "def get_request(url, parameters=None):\n",
    "    print(\"Your request is being processed.\")\n",
    "    response = requests.get(url=url, params=parameters)\n",
    "    if response:\n",
    "        return response.json()\n",
    "    else:\n",
    "        print(\"Request unsuccessful, retrying in 5 seconds.\")\n",
    "        time.sleep(5)\n",
    "        return get_request(url, parameters)\n",
    "    time.sleep(5)\n",
    "\n",
    "\n",
    "\n",
    "#using the function to get all data id's which include appid and app name \n",
    "url = \"https://api.steampowered.com/ISteamApps/GetAppList/v2/\"\n",
    "parameters = {\"request\": \"all\"}\n",
    "data_ids = get_request(url, parameters=parameters)\n",
    "print(\"Your request has been processed successfully, call upon 'data_ids' to preview the full list of IDs and names of all currently available products on Steam as of \", datetime.now().strftime(\"%d/%m/%Y %H:%M:%S\"), \".\")\n",
    "\n",
    "data_ids"
   ]
  },
  {
   "cell_type": "code",
   "execution_count": 4,
   "id": "d36b2465",
   "metadata": {},
   "outputs": [
    {
     "name": "stdout",
     "output_type": "stream",
     "text": [
      "Creating a list of all IDs currently available on Steam\n",
      "List created sucessfully, the total number of IDs available on Steam is: 137874 .\n",
      "Call upon 'app_ids' to preview the full list of extracted IDs.\n"
     ]
    }
   ],
   "source": [
    "#Code to collect all app id's in one library\n",
    "app_ids = []\n",
    "print(\"Creating a list of all IDs currently available on Steam\")\n",
    "for item in data_ids['applist']['apps']:\n",
    "    app_ids.append(item['appid'])\n",
    "\n",
    "print(\"List created sucessfully, the total number of IDs available on Steam is:\", len(app_ids),\".\")\n",
    "print(\"Call upon 'app_ids' to preview the full list of extracted IDs.\")\n"
   ]
  },
  {
   "cell_type": "code",
   "execution_count": null,
   "id": "79f83a90",
   "metadata": {},
   "outputs": [],
   "source": [
    "#code that collects the details of 1 app by appid  \n",
    "url = \"http://store.steampowered.com/api/appdetails/\"\n",
    "parameters = {\"appids\": \"1337020\"}\n",
    "app_data = get_request(url, parameters=parameters)\n",
    "app_data"
   ]
  },
  {
   "cell_type": "code",
   "execution_count": null,
   "id": "1cc94a78",
   "metadata": {},
   "outputs": [],
   "source": [
    "#it finaly loops\n",
    "#however it gives some succes and some false values. so we need to build in a check if succes = false -> then next. if succes = True -> write the data to a Csv \n",
    "import json\n",
    "\n",
    "for item in app_ids:\n",
    "    url_appdetails= \"http://store.steampowered.com/api/appdetails/\"\n",
    "    parameters = {\"appids\": {item}}\n",
    "    app_details = get_request(url_appdetails, parameters=parameters)\n",
    "    \n",
    "    print(app_details)\n",
    "    time.sleep(5)\n",
    "    \n"
   ]
  },
  {
   "cell_type": "code",
   "execution_count": null,
   "id": "c2f18628",
   "metadata": {},
   "outputs": [],
   "source": [
    "#try number XYZ (created a function with a while loop to itterate over it but it didnt' work)\n",
    "app_dict_list = []\n",
    "\n",
    "\n",
    "counter = 1\n",
    "while counter <= 5:\n",
    "    \n",
    "    for i in app_ids: \n",
    "        url = \"http://store.steampowered.com/api/appdetails/\"\n",
    "        parameters = {\"appids\": {i}}\n",
    "        app_data = get_request(url, parameters=parameters)       \n",
    "        json.load(app_data) \n",
    "    \n",
    "        counter += 1\n",
    "        break\n",
    "\n",
    "        \n",
    "    "
   ]
  },
  {
   "cell_type": "code",
   "execution_count": null,
   "id": "2009169c",
   "metadata": {},
   "outputs": [],
   "source": [
    "for item in app_ids:\n",
    "app_data[item]\n"
   ]
  },
  {
   "cell_type": "code",
   "execution_count": null,
   "id": "34f44d81",
   "metadata": {},
   "outputs": [],
   "source": []
  },
  {
   "cell_type": "code",
   "execution_count": null,
   "id": "7e6001cf",
   "metadata": {},
   "outputs": [],
   "source": []
  }
 ],
 "metadata": {
  "kernelspec": {
   "display_name": "Python 3 (ipykernel)",
   "language": "python",
   "name": "python3"
  },
  "language_info": {
   "codemirror_mode": {
    "name": "ipython",
    "version": 3
   },
   "file_extension": ".py",
   "mimetype": "text/x-python",
   "name": "python",
   "nbconvert_exporter": "python",
   "pygments_lexer": "ipython3",
   "version": "3.7.6"
  }
 },
 "nbformat": 4,
 "nbformat_minor": 5
}
