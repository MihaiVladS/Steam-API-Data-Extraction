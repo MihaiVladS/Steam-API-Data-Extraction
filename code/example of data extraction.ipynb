{
 "cells": [
  {
   "cell_type": "code",
   "execution_count": 95,
   "id": "319a318d",
   "metadata": {},
   "outputs": [],
   "source": [
    "#import libraries needed for this proces\n",
    "import requests\n",
    "from datetime import datetime\n",
    "import numpy\n",
    "import time\n",
    "import json\n",
    "import pandas as pd"
   ]
  },
  {
   "cell_type": "code",
   "execution_count": null,
   "id": "005b8817",
   "metadata": {},
   "outputs": [],
   "source": [
    "#function to create an API request based on URL and  parameters\n",
    "def get_request(url, parameters=None):\n",
    "    print(\"Your request is being processed.\")\n",
    "    response = requests.get(url=url, params=parameters)\n",
    "    if response:\n",
    "        return response.json()\n",
    "    else:\n",
    "        print(\"Request unsuccessful, retrying in 5 seconds.\")\n",
    "        time.sleep(5)\n",
    "        return get_request(url, parameters)\n",
    "    time.sleep(5)\n",
    "\n",
    "\n",
    "\n",
    "#using the function to get all data id's which include appid and app name \n",
    "url = \"https://api.steampowered.com/ISteamApps/GetAppList/v2/\"\n",
    "parameters = {\"request\": \"all\"}\n",
    "data_ids = get_request(url, parameters=parameters)\n",
    "print(\"Your request has been processed successfully, call upon 'data_ids' to preview the full list of IDs and names of all currently available products on Steam as of \", datetime.now().strftime(\"%d/%m/%Y %H:%M:%S\"), \".\")\n",
    "\n",
    "data_ids"
   ]
  },
  {
   "cell_type": "code",
   "execution_count": 93,
   "id": "d36b2465",
   "metadata": {},
   "outputs": [
    {
     "name": "stdout",
     "output_type": "stream",
     "text": [
      "Creating a list of all IDs currently available on Steam\n",
      "List created sucessfully, the total number of IDs available on Steam is: 137878 .\n",
      "Call upon 'app_ids' to preview the full list of extracted IDs.\n"
     ]
    }
   ],
   "source": [
    "#Code to collect all app id's in one library\n",
    "app_ids = []\n",
    "print(\"Creating a list of all IDs currently available on Steam\")\n",
    "for item in data_ids['applist']['apps']:\n",
    "    app_ids.append(item['appid'])\n",
    "\n",
    "print(\"List created sucessfully, the total number of IDs available on Steam is:\", len(app_ids),\".\")\n",
    "print(\"Call upon 'app_ids' to preview the full list of extracted IDs.\")\n",
    "\n"
   ]
  },
  {
   "cell_type": "code",
   "execution_count": null,
   "id": "79f83a90",
   "metadata": {},
   "outputs": [],
   "source": [
    "# example code that collects the details of 1 app by appid  \n",
    "url = \"http://store.steampowered.com/api/appdetails/\"\n",
    "parameters = {\"appids\": \"1337020\"}\n",
    "app_data = get_request(url, parameters=parameters)\n",
    "app_data\n",
    "\n"
   ]
  },
  {
   "cell_type": "code",
   "execution_count": null,
   "id": "1cc94a78",
   "metadata": {},
   "outputs": [],
   "source": [
    "#it finaly loops\n",
    "#however it gives some succes and some false values. so we need to build in a check if succes = false -> then next. if succes = True -> write the data to a Csv \n",
    "for item in app_ids:\n",
    "    url_appdetails= \"http://store.steampowered.com/api/appdetails/\"\n",
    "    parameters = {\"appids\": {item}}\n",
    "    app_details = get_request(url_appdetails, parameters=parameters)\n",
    "    \n",
    "    print(app_details)\n",
    "    \n"
   ]
  },
  {
   "cell_type": "code",
   "execution_count": null,
   "id": "c2f18628",
   "metadata": {},
   "outputs": [],
   "source": [
    "## collecting the data  with a for loop that checks if the response was a succes = True. and than takes the data attribute \n",
    "\n",
    "counter = 1   \n",
    "for i in app_ids: \n",
    "    url = \"http://store.steampowered.com/api/appdetails/\"\n",
    "    parameters = {\"appids\": {i}}\n",
    "    app_data = get_request(url, parameters=parameters)       \n",
    "    id = str(i)\n",
    "    response = app_data[id]\n",
    "    succes = response[\"success\"]\n",
    "    if (succes): \n",
    "        data_json = response[\"data\"]\n",
    "        print(data_json)\n",
    "        counter = counter + 1 \n",
    "    if (counter > 10):\n",
    "        break           \n"
   ]
  },
  {
   "cell_type": "code",
   "execution_count": 99,
   "id": "6000d527",
   "metadata": {},
   "outputs": [
    {
     "data": {
      "text/plain": [
       "{'type': 'game',\n",
       " 'name': 'Aeon Drive: Tournament',\n",
       " 'steam_appid': 1479150,\n",
       " 'required_age': 0,\n",
       " 'is_free': False,\n",
       " 'controller_support': 'full',\n",
       " 'detailed_description': '<h1>ADD FULL GAME TO YOUR WISHLIST</h1><p><a href=\"https://store.steampowered.com/app/1252240/Aeon_Drive/\" target=\"_blank\" rel=\"noreferrer\"  id=\"dynamiclink_0\" >https://store.steampowered.com/app/1252240/Aeon_Drive/</a></p><br><h1>Join our Discord</h1><p><a href=\"https://steamcommunity.com/linkfilter/?url=http://discord.gg/RfKxxFE\" target=\"_blank\" rel=\"noopener\"  ><img src=\"https://cdn.cloudflare.steamstatic.com/steam/apps/1479150/extras/AD_DiscordBanner_Updated.gif?t=1636811981\" /></a></p><br><h1>About the Game</h1><img src=\"https://cdn.cloudflare.steamstatic.com/steam/apps/1479150/extras/AD_WISHLIST.gif?t=1636811981\" /><br><br>Race against time — and the whole world! Aeon Drive: Tournament is a speedrunning competition set in the world of Aeon Drive. Will you have what it takes to win?<br><br>The Tournament is split into two parts - the Qualifiers and the Finals:<br><br>The Qualifiers are a free-for-all, limited-time-only event. Be among the fastest racers to complete the 5 Aeon Drive cherry-picked levels and qualify for the knockout-style bracket, where only one will come out victorious.<br><br><img src=\"https://cdn.cloudflare.steamstatic.com/steam/apps/1479150/extras/GIF_action_packed.gif?t=1636811981\" /><br><br>After September 15, the top players among the in-game Global Leaderboards will be selected to compete in the Aeon Drive Tournament Finals, streamed live on Twitch, and organized with the help of the Global Speedrunning Association and hosted by cheese. <br><br>The participants of the Finals feature some of the well-known speedrunners including Distortion2, Squillakilla, Spikevegeta, TheMexicanRunner and more which YOU can face in Aeon Drive’s PVP mode live on Twitch!<br><br><i>Disclaimer: Registration is only required to access the leaderboards and validate your tournament participation. You are free to enjoy these selected levels without officially taking place in the tournament.</i>',\n",
       " 'about_the_game': '<img src=\"https://cdn.cloudflare.steamstatic.com/steam/apps/1479150/extras/AD_WISHLIST.gif?t=1636811981\" /><br><br>Race against time — and the whole world! Aeon Drive: Tournament is a speedrunning competition set in the world of Aeon Drive. Will you have what it takes to win?<br><br>The Tournament is split into two parts - the Qualifiers and the Finals:<br><br>The Qualifiers are a free-for-all, limited-time-only event. Be among the fastest racers to complete the 5 Aeon Drive cherry-picked levels and qualify for the knockout-style bracket, where only one will come out victorious.<br><br><img src=\"https://cdn.cloudflare.steamstatic.com/steam/apps/1479150/extras/GIF_action_packed.gif?t=1636811981\" /><br><br>After September 15, the top players among the in-game Global Leaderboards will be selected to compete in the Aeon Drive Tournament Finals, streamed live on Twitch, and organized with the help of the Global Speedrunning Association and hosted by cheese. <br><br>The participants of the Finals feature some of the well-known speedrunners including Distortion2, Squillakilla, Spikevegeta, TheMexicanRunner and more which YOU can face in Aeon Drive’s PVP mode live on Twitch!<br><br><i>Disclaimer: Registration is only required to access the leaderboards and validate your tournament participation. You are free to enjoy these selected levels without officially taking place in the tournament.</i>',\n",
       " 'short_description': 'Race against time — and the whole world! Aeon Drive: Tournament is a speedrunning competition set in the world of Aeon Drive. Will you have what it takes to win?',\n",
       " 'supported_languages': 'English, French, Italian, German, Spanish - Spain, Korean, Simplified Chinese, Traditional Chinese, Portuguese - Brazil, Russian, Portuguese',\n",
       " 'header_image': 'https://cdn.akamai.steamstatic.com/steam/apps/1479150/header.jpg?t=1636811981',\n",
       " 'website': 'https://www.criticalreflex.com/tournament',\n",
       " 'pc_requirements': {'minimum': '<strong>Minimum:</strong><br><ul class=\"bb_ul\"><li><strong>OS:</strong> Windows 10 or newer<br></li><li><strong>Processor:</strong> (64 bit) Anything for gaming bought in the past 2 or 3 years<br></li><li><strong>Graphics:</strong> Dedicated graphics card<br></li><li><strong>DirectX:</strong> Version 10<br></li><li><strong>Storage:</strong> 500 MB available space<br></li><li><strong>Sound Card:</strong> Recommended<br></li><li><strong>Additional Notes:</strong> Keyboard supported. Gamepad highly recommended.</li></ul>'},\n",
       " 'mac_requirements': [],\n",
       " 'linux_requirements': [],\n",
       " 'legal_notice': '© 2021 2Awesome Studio',\n",
       " 'developers': ['2Awesome Studio'],\n",
       " 'publishers': ['CRITICAL REFLEX'],\n",
       " 'package_groups': [],\n",
       " 'platforms': {'windows': True, 'mac': False, 'linux': False},\n",
       " 'categories': [{'id': 2, 'description': 'Single-player'},\n",
       "  {'id': 28, 'description': 'Full controller support'},\n",
       "  {'id': 25, 'description': 'Steam Leaderboards'}],\n",
       " 'genres': [{'id': '1', 'description': 'Action'},\n",
       "  {'id': '4', 'description': 'Casual'},\n",
       "  {'id': '37', 'description': 'Free to Play'},\n",
       "  {'id': '23', 'description': 'Indie'}],\n",
       " 'screenshots': [{'id': 0,\n",
       "   'path_thumbnail': 'https://cdn.akamai.steamstatic.com/steam/apps/1479150/ss_77a16f8d6b09f773ea339eb2cbccfe5548b26ed7.600x338.jpg?t=1636811981',\n",
       "   'path_full': 'https://cdn.akamai.steamstatic.com/steam/apps/1479150/ss_77a16f8d6b09f773ea339eb2cbccfe5548b26ed7.1920x1080.jpg?t=1636811981'},\n",
       "  {'id': 1,\n",
       "   'path_thumbnail': 'https://cdn.akamai.steamstatic.com/steam/apps/1479150/ss_0ff4dbbf7827e173d40e03bdaecf68baf61e2197.600x338.jpg?t=1636811981',\n",
       "   'path_full': 'https://cdn.akamai.steamstatic.com/steam/apps/1479150/ss_0ff4dbbf7827e173d40e03bdaecf68baf61e2197.1920x1080.jpg?t=1636811981'},\n",
       "  {'id': 2,\n",
       "   'path_thumbnail': 'https://cdn.akamai.steamstatic.com/steam/apps/1479150/ss_599954bb415a3dc92f573db0f76fba87659e64ce.600x338.jpg?t=1636811981',\n",
       "   'path_full': 'https://cdn.akamai.steamstatic.com/steam/apps/1479150/ss_599954bb415a3dc92f573db0f76fba87659e64ce.1920x1080.jpg?t=1636811981'},\n",
       "  {'id': 3,\n",
       "   'path_thumbnail': 'https://cdn.akamai.steamstatic.com/steam/apps/1479150/ss_a6675a865f56c465fe06bf254168522340f20f24.600x338.jpg?t=1636811981',\n",
       "   'path_full': 'https://cdn.akamai.steamstatic.com/steam/apps/1479150/ss_a6675a865f56c465fe06bf254168522340f20f24.1920x1080.jpg?t=1636811981'},\n",
       "  {'id': 4,\n",
       "   'path_thumbnail': 'https://cdn.akamai.steamstatic.com/steam/apps/1479150/ss_d23726ebd212bdec54cd175e7356b54bf6282272.600x338.jpg?t=1636811981',\n",
       "   'path_full': 'https://cdn.akamai.steamstatic.com/steam/apps/1479150/ss_d23726ebd212bdec54cd175e7356b54bf6282272.1920x1080.jpg?t=1636811981'},\n",
       "  {'id': 5,\n",
       "   'path_thumbnail': 'https://cdn.akamai.steamstatic.com/steam/apps/1479150/ss_6373db50b039283df23e13c621b112c6144b5582.600x338.jpg?t=1636811981',\n",
       "   'path_full': 'https://cdn.akamai.steamstatic.com/steam/apps/1479150/ss_6373db50b039283df23e13c621b112c6144b5582.1920x1080.jpg?t=1636811981'}],\n",
       " 'movies': [{'id': 256820722,\n",
       "   'name': 'Aeon Drive Trailer',\n",
       "   'thumbnail': 'https://cdn.akamai.steamstatic.com/steam/apps/256820722/movie.293x165.jpg?t=1630685995',\n",
       "   'webm': {'480': 'http://cdn.akamai.steamstatic.com/steam/apps/256820722/movie480_vp9.webm?t=1630685995',\n",
       "    'max': 'http://cdn.akamai.steamstatic.com/steam/apps/256820722/movie_max_vp9.webm?t=1630685995'},\n",
       "   'mp4': {'480': 'http://cdn.akamai.steamstatic.com/steam/apps/256820722/movie480.mp4?t=1630685995',\n",
       "    'max': 'http://cdn.akamai.steamstatic.com/steam/apps/256820722/movie_max.mp4?t=1630685995'},\n",
       "   'highlight': True}],\n",
       " 'release_date': {'coming_soon': False, 'date': '3 Sep, 2021'},\n",
       " 'support_info': {'url': 'https://twitter.com/aeondrive',\n",
       "  'email': 'info@2awesomestudio.com'},\n",
       " 'background': 'https://cdn.akamai.steamstatic.com/steam/apps/1479150/page_bg_generated_v6b.jpg?t=1636811981',\n",
       " 'background_raw': 'https://cdn.akamai.steamstatic.com/steam/apps/1479150/page_bg_generated.jpg?t=1636811981',\n",
       " 'content_descriptors': {'ids': [], 'notes': None}}"
      ]
     },
     "execution_count": 99,
     "metadata": {},
     "output_type": "execute_result"
    }
   ],
   "source": [
    "data_json\n"
   ]
  },
  {
   "cell_type": "code",
   "execution_count": null,
   "id": "7e6001cf",
   "metadata": {},
   "outputs": [],
   "source": [
    "\n",
    "#trying to make a function out of it \n",
    "def Get_tha_data(attributes, limit):\n",
    " \n",
    "counter = 1   \n",
    "for i in app_ids: \n",
    "    url = \"http://store.steampowered.com/api/appdetails/\"\n",
    "    parameters = {\"appids\": {i}}\n",
    "    app_data = get_request(url, parameters=parameters)       \n",
    "    id = str(i)\n",
    "    response = app_data[id]\n",
    "    succes = response[\"success\"]\n",
    "    if (succes): \n",
    "        data_json = response[\"data\"]\n",
    "        print(data_json)\n",
    "        counter = counter + 1 \n",
    "    if (counter > limit):\n",
    "        break           \n"
   ]
  },
  {
   "cell_type": "code",
   "execution_count": null,
   "id": "34f44d81",
   "metadata": {},
   "outputs": [],
   "source": [
    "\n",
    "### example to create a dictionary that checks if the id is already in the dictionary and then if not in dictionary get data \n",
    "all_app_data = {}\n",
    "\n",
    "for i in app_ids:\n",
    "  id = str(i)\n",
    "  if id not in all_app_data:\n",
    "     // haal data op\n",
    "\n",
    "     if(success):\n",
    "       // Zet data in all_app_data\n",
    "       all_app_data[id] = data"
   ]
  }
 ],
 "metadata": {
  "kernelspec": {
   "display_name": "Python 3 (ipykernel)",
   "language": "python",
   "name": "python3"
  },
  "language_info": {
   "codemirror_mode": {
    "name": "ipython",
    "version": 3
   },
   "file_extension": ".py",
   "mimetype": "text/x-python",
   "name": "python",
   "nbconvert_exporter": "python",
   "pygments_lexer": "ipython3",
   "version": "3.7.6"
  }
 },
 "nbformat": 4,
 "nbformat_minor": 5
}
