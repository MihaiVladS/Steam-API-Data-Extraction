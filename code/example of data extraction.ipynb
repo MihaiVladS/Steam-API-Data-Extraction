{
 "cells": [
  {
   "cell_type": "code",
   "execution_count": 4,
   "id": "319a318d",
   "metadata": {},
   "outputs": [],
   "source": [
    "import requests\n",
    "import time"
   ]
  },
  {
   "cell_type": "code",
   "execution_count": 13,
   "id": "005b8817",
   "metadata": {},
   "outputs": [],
   "source": [
    "def get_request(url, parameters=None):\n",
    "    print(\"Your request is being processed.\")\n",
    "    response = requests.get(url=url, params=parameters)\n",
    "    if response:\n",
    "        return response.json()\n",
    "    else:\n",
    "        print(\"Request unsuccessful, retrying in 5 seconds.\")\n",
    "        time.sleep(5)\n",
    "        return get_request(url, parameters)\n",
    "    time.sleep(5)\n"
   ]
  },
  {
   "cell_type": "code",
   "execution_count": 19,
   "id": "d36b2465",
   "metadata": {},
   "outputs": [
    {
     "name": "stdout",
     "output_type": "stream",
     "text": [
      "Your request is being processed.\n"
     ]
    },
    {
     "data": {
      "text/plain": [
       "{'406210': {'success': True,\n",
       "  'data': {'type': 'video',\n",
       "   'name': 'Over the Dream',\n",
       "   'steam_appid': 406210,\n",
       "   'required_age': 0,\n",
       "   'is_free': False,\n",
       "   'controller_support': 'full',\n",
       "   'detailed_description': '<h1>Steam Video</h1><p>This content is only available in an online streaming format. More information about streaming videos can be found in the <a href=\"https://support.steampowered.com/kb_article.php?ref=8699-OASD-1871\">Streaming Videos on Steam FAQ</a>.</p><br><h1>About the Video</h1>The International, a legendary tournament, which had already become an annual celebration for all Dota 2 fans and spectators, came back in July of 2015. This time four teams from CIS were honored to prove themselves in a battle for 18 million dollars. But our story is about only one team – Virtus.pro. However, The International is not only about teams. Anton &quot;Mob5ter&quot; Erohin, who didn’t even know what Dota 2 was several years ago, had already become one of very few Russian &quot;voices&quot; of game broadcasting and was set out to get to TI. But The International didn\\'t feel like a celebration for everyone. Dread, who gave over 5 years of his life for this game, once again had to visit TI not as a player, but as an analyst. What are his feelings and emotions? What goals do Virtus.pro pursue? How does Mob5ter imagine working in Seattle? And the main question: what does The International mean for these guys? You\\'ll see in a new documentary by Ivan Demkin – «Over the dream».',\n",
       "   'about_the_game': \"The International, a legendary tournament, which had already become an annual celebration for all Dota 2 fans and spectators, came back in July of 2015. This time four teams from CIS were honored to prove themselves in a battle for 18 million dollars. But our story is about only one team – Virtus.pro. However, The International is not only about teams. Anton &quot;Mob5ter&quot; Erohin, who didn’t even know what Dota 2 was several years ago, had already become one of very few Russian &quot;voices&quot; of game broadcasting and was set out to get to TI. But The International didn't feel like a celebration for everyone. Dread, who gave over 5 years of his life for this game, once again had to visit TI not as a player, but as an analyst. What are his feelings and emotions? What goals do Virtus.pro pursue? How does Mob5ter imagine working in Seattle? And the main question: what does The International mean for these guys? You'll see in a new documentary by Ivan Demkin – «Over the dream».\",\n",
       "   'short_description': '«Over the dream» is a documentary by Ivan Demkin. It tells us about adventures of CIS representatives at The International tournament. In this movie we will talk about one team and some of the tournament broadcasters – a commentator and an analyst.',\n",
       "   'supported_languages': 'Russian<strong>*</strong><br><strong>*</strong>languages with full audio support',\n",
       "   'header_image': 'https://cdn.akamai.steamstatic.com/steam/apps/406210/header.jpg?t=1634523789',\n",
       "   'website': 'http://virtus.pro/',\n",
       "   'pc_requirements': {'minimum': '<strong>Minimum:</strong><br><ul class=\"bb_ul\"><li><strong>OS:</strong> Windows 7<br></li><li><strong>Processor:</strong> Intel Core 2 or AMD equivalent<br></li><li><strong>Memory:</strong> 1 GB RAM<br></li><li><strong>Network:</strong> Broadband Internet connection<br></li><li><strong>Storage:</strong> 200 MB available space<br></li><li><strong>Additional Notes:</strong> Network Bandwidth of 5Mbps for 540p, 3Mbps for 360p.</li></ul>',\n",
       "    'recommended': '<strong>Recommended:</strong><br><ul class=\"bb_ul\"><li><strong>OS:</strong> Windows 10<br></li><li><strong>Processor:</strong> Intel Core I3+ or AMD equivalent recommended for HD 1080p playback<br></li><li><strong>Memory:</strong> 2 GB RAM<br></li><li><strong>Network:</strong> Broadband Internet connection<br></li><li><strong>Storage:</strong> 500 MB available space<br></li><li><strong>Additional Notes:</strong> Network Bandwidth of 12Mbps for 1080p or 8Mbps for 720p.</li></ul>'},\n",
       "   'mac_requirements': {'minimum': '<strong>Minimum:</strong><br><ul class=\"bb_ul\"><li><strong>OS:</strong> Mac OSX 10.7<br></li><li><strong>Processor:</strong> Intel Core 2 or AMD equivalent<br></li><li><strong>Memory:</strong> 1 GB RAM<br></li><li><strong>Network:</strong> Broadband Internet connection<br></li><li><strong>Storage:</strong> 200 MB available space<br></li><li><strong>Additional Notes:</strong> Network Bandwidth of 5Mbps for 540p, 3Mbps for 360p.</li></ul>',\n",
       "    'recommended': '<strong>Recommended:</strong><br><ul class=\"bb_ul\"><li><strong>OS:</strong> Mac OSX 10.10+<br></li><li><strong>Processor:</strong> Intel Core I3+ or AMD equivalent recommended for HD 1080p playback<br></li><li><strong>Memory:</strong> 2 GB RAM<br></li><li><strong>Network:</strong> Broadband Internet connection<br></li><li><strong>Storage:</strong> 500 MB available space<br></li><li><strong>Additional Notes:</strong> Network Bandwidth of 12Mbps for 1080p or 8Mbps for 720p.</li></ul>'},\n",
       "   'linux_requirements': {'minimum': '<strong>Minimum:</strong><br><ul class=\"bb_ul\"><li><strong>OS:</strong> Linux Ubuntu 12.04 or later, SteamOS 2.20 or later<br></li><li><strong>Processor:</strong> Intel Core 2 or AMD equivalent<br></li><li><strong>Memory:</strong> 1 GB RAM<br></li><li><strong>Network:</strong> Broadband Internet connection<br></li><li><strong>Storage:</strong> 200 MB available space<br></li><li><strong>Additional Notes:</strong> Network Bandwidth of 5Mbps for 540p, 3Mbps for 360p.</li></ul>',\n",
       "    'recommended': '<strong>Recommended:</strong><br><ul class=\"bb_ul\"><li><strong>OS:</strong> Linux Ubuntu 12.04 or later, SteamOS 2.20 or later<br></li><li><strong>Processor:</strong> Intel Core I3+ or AMD equivalent recommended for HD 1080p playback<br></li><li><strong>Memory:</strong> 2 GB RAM<br></li><li><strong>Network:</strong> Broadband Internet connection<br></li><li><strong>Storage:</strong> 500 MB available space<br></li><li><strong>Additional Notes:</strong> Network Bandwidth of 12Mbps for 1080p or 8Mbps for 720p.</li></ul>'},\n",
       "   'legal_notice': 'You could use this film, video and sound content from it for personal use only. You are not allow to copy or publish content from the film without permission from Virtus.pro (VP Project Ltd) company.',\n",
       "   'developers': ['VP Project'],\n",
       "   'publishers': ['VP Project'],\n",
       "   'price_overview': {'currency': 'EUR',\n",
       "    'initial': 399,\n",
       "    'final': 55,\n",
       "    'discount_percent': 86,\n",
       "    'initial_formatted': '3,99€',\n",
       "    'final_formatted': '0,55€'},\n",
       "   'packages': [79955],\n",
       "   'package_groups': [{'name': 'default',\n",
       "     'title': 'Buy Over the Dream',\n",
       "     'description': '',\n",
       "     'selection_text': 'Select a purchase option',\n",
       "     'save_text': '',\n",
       "     'display_type': 0,\n",
       "     'is_recurring_subscription': 'false',\n",
       "     'subs': [{'packageid': 79955,\n",
       "       'percent_savings_text': '-86% ',\n",
       "       'percent_savings': 0,\n",
       "       'option_text': 'Over The Dream - <span class=\"discount_original_price\">3,99€</span> 0,55€',\n",
       "       'option_description': '',\n",
       "       'can_get_free_license': '0',\n",
       "       'is_free_license': False,\n",
       "       'price_in_cents_with_discount': 55}]}],\n",
       "   'platforms': {'windows': True, 'mac': True, 'linux': True},\n",
       "   'categories': [{'id': 28, 'description': 'Full controller support'},\n",
       "    {'id': 33, 'description': 'Native Steam Controller Support'}],\n",
       "   'genres': [{'id': '80', 'description': 'Movie'},\n",
       "    {'id': '81', 'description': 'Documentary'}],\n",
       "   'screenshots': [{'id': 0,\n",
       "     'path_thumbnail': 'https://cdn.akamai.steamstatic.com/steam/apps/406210/ss_d7efeaa32867711e4e2e352ae1d5224f1f79337f.600x338.jpg?t=1634523789',\n",
       "     'path_full': 'https://cdn.akamai.steamstatic.com/steam/apps/406210/ss_d7efeaa32867711e4e2e352ae1d5224f1f79337f.1920x1080.jpg?t=1634523789'},\n",
       "    {'id': 1,\n",
       "     'path_thumbnail': 'https://cdn.akamai.steamstatic.com/steam/apps/406210/ss_62100f4c6d8fd0acd535386c9ccd5d4d2856e5c8.600x338.jpg?t=1634523789',\n",
       "     'path_full': 'https://cdn.akamai.steamstatic.com/steam/apps/406210/ss_62100f4c6d8fd0acd535386c9ccd5d4d2856e5c8.1920x1080.jpg?t=1634523789'},\n",
       "    {'id': 2,\n",
       "     'path_thumbnail': 'https://cdn.akamai.steamstatic.com/steam/apps/406210/ss_b10f8af5fcb33197532d30234f40db5372187a83.600x338.jpg?t=1634523789',\n",
       "     'path_full': 'https://cdn.akamai.steamstatic.com/steam/apps/406210/ss_b10f8af5fcb33197532d30234f40db5372187a83.1920x1080.jpg?t=1634523789'},\n",
       "    {'id': 3,\n",
       "     'path_thumbnail': 'https://cdn.akamai.steamstatic.com/steam/apps/406210/ss_e5ee65d9c9fdfcfca93eaa49ee52c447e68297e9.600x338.jpg?t=1634523789',\n",
       "     'path_full': 'https://cdn.akamai.steamstatic.com/steam/apps/406210/ss_e5ee65d9c9fdfcfca93eaa49ee52c447e68297e9.1920x1080.jpg?t=1634523789'},\n",
       "    {'id': 4,\n",
       "     'path_thumbnail': 'https://cdn.akamai.steamstatic.com/steam/apps/406210/ss_3e64f6d9877e8ef8268c5320d595828628e373c4.600x338.jpg?t=1634523789',\n",
       "     'path_full': 'https://cdn.akamai.steamstatic.com/steam/apps/406210/ss_3e64f6d9877e8ef8268c5320d595828628e373c4.1920x1080.jpg?t=1634523789'},\n",
       "    {'id': 5,\n",
       "     'path_thumbnail': 'https://cdn.akamai.steamstatic.com/steam/apps/406210/ss_edb2368943033b98e59c3fdeeca7cfb63748303d.600x338.jpg?t=1634523789',\n",
       "     'path_full': 'https://cdn.akamai.steamstatic.com/steam/apps/406210/ss_edb2368943033b98e59c3fdeeca7cfb63748303d.1920x1080.jpg?t=1634523789'},\n",
       "    {'id': 6,\n",
       "     'path_thumbnail': 'https://cdn.akamai.steamstatic.com/steam/apps/406210/ss_e600262985c74632fdc40094a9f0ad8e7ca61b57.600x338.jpg?t=1634523789',\n",
       "     'path_full': 'https://cdn.akamai.steamstatic.com/steam/apps/406210/ss_e600262985c74632fdc40094a9f0ad8e7ca61b57.1920x1080.jpg?t=1634523789'},\n",
       "    {'id': 7,\n",
       "     'path_thumbnail': 'https://cdn.akamai.steamstatic.com/steam/apps/406210/ss_46855dceeac7cb4aa38880fb74a5667d8ec56ad5.600x338.jpg?t=1634523789',\n",
       "     'path_full': 'https://cdn.akamai.steamstatic.com/steam/apps/406210/ss_46855dceeac7cb4aa38880fb74a5667d8ec56ad5.1920x1080.jpg?t=1634523789'},\n",
       "    {'id': 8,\n",
       "     'path_thumbnail': 'https://cdn.akamai.steamstatic.com/steam/apps/406210/ss_0a0388f6b2a3645137021fed8323221a8f9d600e.600x338.jpg?t=1634523789',\n",
       "     'path_full': 'https://cdn.akamai.steamstatic.com/steam/apps/406210/ss_0a0388f6b2a3645137021fed8323221a8f9d600e.1920x1080.jpg?t=1634523789'}],\n",
       "   'movies': [{'id': 256656919,\n",
       "     'name': 'Over the Dream Trailer (Eng)',\n",
       "     'thumbnail': 'https://cdn.akamai.steamstatic.com/steam/apps/256656919/movie.293x165.jpg?t=1447378322',\n",
       "     'webm': {'480': 'http://cdn.akamai.steamstatic.com/steam/apps/256656919/movie480.webm?t=1447378322',\n",
       "      'max': 'http://cdn.akamai.steamstatic.com/steam/apps/256656919/movie_max.webm?t=1447378322'},\n",
       "     'mp4': {'480': 'http://cdn.akamai.steamstatic.com/steam/apps/256656919/movie480.mp4?t=1447378322',\n",
       "      'max': 'http://cdn.akamai.steamstatic.com/steam/apps/256656919/movie_max.mp4?t=1447378322'},\n",
       "     'highlight': True}],\n",
       "   'recommendations': {'total': 1860},\n",
       "   'release_date': {'coming_soon': False, 'date': '6 Nov, 2015'},\n",
       "   'support_info': {'url': 'http://virtus.pro', 'email': '@virtus.pro'},\n",
       "   'background': 'https://cdn.akamai.steamstatic.com/steam/apps/406210/page_bg_generated_v6b.jpg?t=1634523789',\n",
       "   'background_raw': 'https://cdn.akamai.steamstatic.com/steam/apps/406210/page.bg.jpg?t=1634523789',\n",
       "   'content_descriptors': {'ids': [], 'notes': None}}}}"
      ]
     },
     "execution_count": 19,
     "metadata": {},
     "output_type": "execute_result"
    }
   ],
   "source": [
    "url = \"http://store.steampowered.com/api/appdetails/\"\n",
    "parameters = {\"appids\": \"406210\"}\n",
    "data = get_request(url, parameters=parameters)\n",
    "data"
   ]
  },
  {
   "cell_type": "code",
   "execution_count": null,
   "id": "c2f18628",
   "metadata": {},
   "outputs": [],
   "source": []
  }
 ],
 "metadata": {
  "kernelspec": {
   "display_name": "Python 3 (ipykernel)",
   "language": "python",
   "name": "python3"
  },
  "language_info": {
   "codemirror_mode": {
    "name": "ipython",
    "version": 3
   },
   "file_extension": ".py",
   "mimetype": "text/x-python",
   "name": "python",
   "nbconvert_exporter": "python",
   "pygments_lexer": "ipython3",
   "version": "3.9.7"
  }
 },
 "nbformat": 4,
 "nbformat_minor": 5
}
