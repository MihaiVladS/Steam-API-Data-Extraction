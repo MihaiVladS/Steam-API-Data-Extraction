{
 "cells": [
  {
   "cell_type": "code",
   "execution_count": 9,
   "id": "319a318d",
   "metadata": {},
   "outputs": [],
   "source": [
    "#import libraries needed for this proces\n",
    "import requests\n",
    "from datetime import datetime\n",
    "import numpy\n",
    "import time\n",
    "import json\n",
    "import pandas as pd"
   ]
  },
  {
   "cell_type": "code",
   "execution_count": null,
   "id": "005b8817",
   "metadata": {},
   "outputs": [],
   "source": [
    "#function to create an API request based on URL and  parameters\n",
    "def get_request(url, parameters=None):\n",
    "    print(\"Your request is being processed.\")\n",
    "    response = requests.get(url=url, params=parameters)\n",
    "    if response:\n",
    "        return response.json()\n",
    "        \n",
    "    else:\n",
    "        print(\"Request unsuccessful, retrying in 5 seconds.\")\n",
    "        time.sleep(5)\n",
    "        return get_request(url, parameters)\n",
    "\n",
    "\n",
    "\n",
    "\n",
    "#using the function to get all data id's which include appid and app name \n",
    "url = \"https://api.steampowered.com/ISteamApps/GetAppList/v2/\"\n",
    "parameters = {\"request\": \"all\"}\n",
    "data_ids = get_request(url, parameters=parameters)\n",
    "print(\"Your request has been processed successfully, call upon 'data_ids' to preview the full list of IDs and names of all currently available products on Steam as of \", datetime.now().strftime(\"%d/%m/%Y %H:%M:%S\"), \".\")\n",
    "\n",
    "data_ids"
   ]
  },
  {
   "cell_type": "code",
   "execution_count": 29,
   "id": "d36b2465",
   "metadata": {},
   "outputs": [
    {
     "name": "stdout",
     "output_type": "stream",
     "text": [
      "Creating a list of all IDs currently available on Steam\n",
      "List created sucessfully, the total number of IDs available on Steam is: 137908 .\n",
      "Call upon 'app_ids' to preview the full list of extracted IDs.\n"
     ]
    }
   ],
   "source": [
    "#Code to collect all app id's in one library\n",
    "app_ids = []\n",
    "print(\"Creating a list of all IDs currently available on Steam\")\n",
    "for item in data_ids['applist']['apps']:\n",
    "    app_ids.append(item['appid'])\n",
    "\n",
    "print(\"List created sucessfully, the total number of IDs available on Steam is:\", len(app_ids),\".\")\n",
    "print(\"Call upon 'app_ids' to preview the full list of extracted IDs.\")\n",
    "\n"
   ]
  },
  {
   "cell_type": "code",
   "execution_count": null,
   "id": "79f83a90",
   "metadata": {},
   "outputs": [],
   "source": [
    "# example code that collects the details of 1 app by appid  \n",
    "url = \"http://store.steampowered.com/api/appdetails/\"\n",
    "parameters = {\"appids\": \"1337020\"}\n",
    "app_data = get_request(url, parameters=parameters)\n",
    "app_data\n"
   ]
  },
  {
   "cell_type": "code",
   "execution_count": null,
   "id": "1cc94a78",
   "metadata": {},
   "outputs": [],
   "source": [
    "#it finaly loops\n",
    "#however it gives some succes and some false values. so we need to build in a check if succes = false -> then next. if succes = True -> write the data to a Csv \n",
    "for item in app_ids:\n",
    "    url_appdetails= \"http://store.steampowered.com/api/appdetails/\"\n",
    "    parameters = {\"appids\": {item}}\n",
    "    app_details = get_request(url_appdetails, parameters=parameters)\n",
    "    \n",
    "    print(app_details)\n",
    "\n",
    "    app_details\n",
    "    \n"
   ]
  },
  {
   "cell_type": "code",
   "execution_count": null,
   "id": "c2f18628",
   "metadata": {},
   "outputs": [],
   "source": [
    "## collecting the data with a for loop that checks if the response was a succes = True. and than takes the data attribute \n",
    "details = {}   #assumes a dict \n",
    "\n",
    "counter = 1   \n",
    "for i in app_ids: \n",
    "    url = \"http://store.steampowered.com/api/appdetails/\"\n",
    "    parameters = {\"appids\": {i}}\n",
    "    app_data = get_request(url, parameters=parameters)\n",
    "    \n",
    "    id = str(i)\n",
    "    print(\"Processing data pertaining to Steam ID:\"+id)\n",
    "    response = app_data[id]\n",
    "    succes = response[\"success\"]\n",
    "    if (succes): \n",
    "        data_json = response[\"data\"]\n",
    "        try:\n",
    "            app_id = data_json[\"steam_appid\"]\n",
    "            name = data_json[\"name\"]\n",
    "            f2p = data_json[\"is_free\"]\n",
    "            price = data_json[\"price_overview\"][\"final_formatted\"]\n",
    "            developer = data_json[\"developers\"]\n",
    "            publisher = data_json[\"publishers\"]\n",
    "            details[app_id]=[name],[f2p],[price],[developer],[publisher]\n",
    "        except:\n",
    "            pass\n",
    "        counter = counter + 1 \n",
    "    if (counter > 12):\n",
    "        break           \n"
   ]
  },
  {
   "cell_type": "code",
   "execution_count": null,
   "id": "6000d527",
   "metadata": {},
   "outputs": [],
   "source": [
    "\n"
   ]
  },
  {
   "cell_type": "code",
   "execution_count": null,
   "id": "34f44d81",
   "metadata": {},
   "outputs": [],
   "source": [
    "### example to create a dictionary that checks if the id is already in the dictionary and then if not in dictionary get data \n",
    "\n",
    "\"\"\"\n",
    "details = {}\n",
    "\n",
    "for i in app_ids:\n",
    "  id = str(i)\n",
    "  if id not in details:\n",
    "     // get data\n",
    "\n",
    "     if(success):\n",
    "       // put data in details\n",
    "       details[id] = data\n",
    "\n",
    "\"\"\"     "
   ]
  },
  {
   "cell_type": "code",
   "execution_count": null,
   "id": "7e6001cf",
   "metadata": {},
   "outputs": [],
   "source": [
    "#not relevant yet \n",
    "#trying to make a function out of it\n",
    "\n",
    "\n",
    "\"\"\"\n",
    "this is a comment \n",
    "\n",
    "def Get_tha_data(attributes, limit):\n",
    " \n",
    "counter = 1   \n",
    "for i in app_ids: \n",
    "    url = \"http://store.steampowered.com/api/appdetails/\"\n",
    "    parameters = {\"appids\": {i}}\n",
    "    app_data = get_request(url, parameters=parameters)       \n",
    "    id = str(i)\n",
    "    response = app_data[id]\n",
    "    succes = response[\"success\"]\n",
    "    if (succes): \n",
    "        data_json = response[\"data\"]\n",
    "        print(data_json)\n",
    "        counter = counter + 1 \n",
    "    if (counter > limit):\n",
    "        break           \n",
    "\"\"\""
   ]
  },
  {
   "cell_type": "code",
   "execution_count": null,
   "id": "be96eb91",
   "metadata": {},
   "outputs": [],
   "source": []
  }
 ],
 "metadata": {
  "kernelspec": {
   "display_name": "Python 3 (ipykernel)",
   "language": "python",
   "name": "python3"
  },
  "language_info": {
   "codemirror_mode": {
    "name": "ipython",
    "version": 3
   },
   "file_extension": ".py",
   "mimetype": "text/x-python",
   "name": "python",
   "nbconvert_exporter": "python",
   "pygments_lexer": "ipython3",
   "version": "3.7.6"
  }
 },
 "nbformat": 4,
 "nbformat_minor": 5
}
