{
 "cells": [
  {
   "cell_type": "code",
   "execution_count": 1,
   "metadata": {},
   "outputs": [],
   "source": [
    "#import libraries needed for this proces\n",
    "import requests\n",
    "from datetime import datetime\n",
    "import numpy\n",
    "import time\n",
    "import json"
   ]
  },
  {
   "cell_type": "code",
   "execution_count": 2,
   "metadata": {},
   "outputs": [],
   "source": [
    "#function to create an API request based on URL and  parameters\n",
    "def get_request(url, parameters=None):\n",
    "    print(\"Your request is being processed.\")\n",
    "    response = requests.get(url=url, params=parameters)\n",
    "    if response:\n",
    "        return response.json()\n",
    "        \n",
    "    else:\n",
    "        print(\"Request unsuccessful, retrying in 5 seconds.\")\n",
    "        time.sleep(5)\n",
    "        return get_request(url, parameters)\n",
    "    time.sleep(1)"
   ]
  },
  {
   "cell_type": "code",
   "execution_count": 3,
   "metadata": {},
   "outputs": [
    {
     "name": "stdout",
     "output_type": "stream",
     "text": [
      "Your request is being processed.\n",
      "Your request has been processed successfully, call upon 'data_ids' to preview the full list of IDs and names of all currently available products on Steam as of  23/03/2022 11:56:22 .\n"
     ]
    }
   ],
   "source": [
    "#using the function to get all data id's which include appid and app name \n",
    "url = \"https://api.steampowered.com/ISteamApps/GetAppList/v2/\"\n",
    "parameters = {\"request\": all}\n",
    "data_ids = get_request(url, parameters=parameters)\n",
    "print(\"Your request has been processed successfully, call upon 'data_ids' to preview the full list of IDs and names of all currently available products on Steam as of \", datetime.now().strftime(\"%d/%m/%Y %H:%M:%S\"), \".\")"
   ]
  },
  {
   "cell_type": "code",
   "execution_count": 15,
   "metadata": {},
   "outputs": [
    {
     "name": "stdout",
     "output_type": "stream",
     "text": [
      "Creating a list of all IDs currently available on Steam\n",
      "List created sucessfully, the total number of IDs available on Steam is: 138580 .\n",
      "Call upon 'app_ids' to preview the full list of extracted IDs.\n",
      "Saving the Steam ID list in the 'data' folder as 'app_ids.json'.\n",
      "File 'app_ids.json' has been saved successfully!\n"
     ]
    }
   ],
   "source": [
    "#Code to collect all app id's in one library\n",
    "app_ids = []\n",
    "\n",
    "print(\"Creating a list of all IDs currently available on Steam\")\n",
    "for item in data_ids['applist']['apps']:\n",
    "    app_ids.append(item['appid'])\n",
    "\n",
    "\n",
    "f = open('..\\\\..\\\\data\\\\app_ids.json','w+',encoding='utf-8')\n",
    "f.write(json.dumps(app_ids)+'\\n')\n",
    "f.close()\n",
    "\n",
    "\"data\"\n",
    "\"src\\collection\"\n",
    "\n",
    "print(\"List created sucessfully, the total number of IDs available on Steam is:\", len(app_ids),\".\")\n",
    "print(\"Call upon 'app_ids' to preview the full list of extracted IDs.\")\n",
    "print(\"Saving the Steam ID list in the 'data' folder as 'app_ids.json'.\")\n",
    "print(\"File 'app_ids.json' has been saved successfully!\")"
   ]
  },
  {
   "cell_type": "code",
   "execution_count": null,
   "metadata": {},
   "outputs": [],
   "source": [
    "# testing if i could open it as list \n",
    "r = open('..\\\\..\\\\data\\\\app_ids.json','r',encoding='utf-8')\n",
    "test = json.load(r)\n",
    "test\n"
   ]
  }
 ],
 "metadata": {
  "interpreter": {
   "hash": "e9f09fca4d15fa97f677e5901aabca61025ff22d892dc5a2f518eede0694e829"
  },
  "kernelspec": {
   "display_name": "Python 3.9.7 ('base')",
   "language": "python",
   "name": "python3"
  },
  "language_info": {
   "codemirror_mode": {
    "name": "ipython",
    "version": 3
   },
   "file_extension": ".py",
   "mimetype": "text/x-python",
   "name": "python",
   "nbconvert_exporter": "python",
   "pygments_lexer": "ipython3",
   "version": "3.9.7"
  },
  "orig_nbformat": 4
 },
 "nbformat": 4,
 "nbformat_minor": 2
}
