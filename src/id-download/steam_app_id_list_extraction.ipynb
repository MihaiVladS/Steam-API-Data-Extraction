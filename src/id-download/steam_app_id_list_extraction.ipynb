{
 "cells": [
  {
   "cell_type": "code",
   "execution_count": 1,
   "metadata": {},
   "outputs": [],
   "source": [
    "#import libraries needed for this proces\n",
    "import requests\n",
    "from datetime import datetime\n",
    "import numpy\n",
    "import time\n",
    "import json"
   ]
  },
  {
   "cell_type": "code",
   "execution_count": 2,
   "metadata": {},
   "outputs": [],
   "source": [
    "#function to create an API request based on URL and  parameters\n",
    "def get_request(url, parameters=None):\n",
    "    print(\"Your request is being processed.\")\n",
    "    response = requests.get(url=url, params=parameters)\n",
    "    if response:\n",
    "        return response.json()\n",
    "        \n",
    "    else:\n",
    "        print(\"Request unsuccessful, retrying in 5 seconds.\")\n",
    "        time.sleep(5)\n",
    "        return get_request(url, parameters)\n",
    "    time.sleep(1)"
   ]
  },
  {
   "cell_type": "code",
   "execution_count": 3,
   "metadata": {},
   "outputs": [
    {
     "name": "stdout",
     "output_type": "stream",
     "text": [
      "Your request is being processed.\n",
      "Your request has been processed successfully, call upon 'data_ids' to preview the full list of IDs and names of all currently available products on Steam as of  20/03/2022 16:47:21 .\n"
     ]
    }
   ],
   "source": [
    "#using the function to get all data id's which include appid and app name \n",
    "url = \"https://api.steampowered.com/ISteamApps/GetAppList/v2/\"\n",
    "parameters = {\"request\": all}\n",
    "data_ids = get_request(url, parameters=parameters)\n",
    "print(\"Your request has been processed successfully, call upon 'data_ids' to preview the full list of IDs and names of all currently available products on Steam as of \", datetime.now().strftime(\"%d/%m/%Y %H:%M:%S\"), \".\")"
   ]
  },
  {
   "cell_type": "code",
   "execution_count": 7,
   "metadata": {},
   "outputs": [
    {
     "name": "stdout",
     "output_type": "stream",
     "text": [
      "Creating a list of all IDs currently available on Steam\n",
      "List created sucessfully, the total number of IDs available on Steam is: 138483 .\n",
      "Call upon 'app_ids' to preview the full list of extracted IDs.\n",
      "Saving the Steam ID list in the 'data' folder as 'steam_id_list.csv'.\n"
     ]
    },
    {
     "ename": "PermissionError",
     "evalue": "[Errno 13] Permission denied: '../../gen'",
     "output_type": "error",
     "traceback": [
      "\u001b[1;31m---------------------------------------------------------------------------\u001b[0m",
      "\u001b[1;31mPermissionError\u001b[0m                           Traceback (most recent call last)",
      "\u001b[1;32m~\\AppData\\Local\\Temp/ipykernel_47960/1681671220.py\u001b[0m in \u001b[0;36m<module>\u001b[1;34m\u001b[0m\n\u001b[0;32m     10\u001b[0m \u001b[0mprint\u001b[0m\u001b[1;33m(\u001b[0m\u001b[1;34m\"Saving the Steam ID list in the 'data' folder as 'steam_id_list.csv'.\"\u001b[0m\u001b[1;33m)\u001b[0m\u001b[1;33m\u001b[0m\u001b[1;33m\u001b[0m\u001b[0m\n\u001b[0;32m     11\u001b[0m \u001b[1;31m#numpy.savetxt(\"../../gen/steam_id_list.csv\", app_ids,delimiter =\", \", fmt ='% s')\u001b[0m\u001b[1;33m\u001b[0m\u001b[1;33m\u001b[0m\u001b[0m\n\u001b[1;32m---> 12\u001b[1;33m \u001b[1;32mwith\u001b[0m \u001b[0mopen\u001b[0m\u001b[1;33m(\u001b[0m\u001b[1;34m\"../../gen\"\u001b[0m\u001b[1;33m,\u001b[0m \u001b[1;34m\"r\"\u001b[0m\u001b[1;33m)\u001b[0m \u001b[1;32mas\u001b[0m \u001b[0mf\u001b[0m\u001b[1;33m:\u001b[0m\u001b[1;33m\u001b[0m\u001b[1;33m\u001b[0m\u001b[0m\n\u001b[0m\u001b[0;32m     13\u001b[0m   \u001b[0mdata\u001b[0m \u001b[1;33m=\u001b[0m \u001b[0mjson\u001b[0m\u001b[1;33m.\u001b[0m\u001b[0mdump\u001b[0m\u001b[1;33m(\u001b[0m\u001b[0mapp_ids\u001b[0m\u001b[1;33m,\u001b[0m \u001b[0msteam_app_id_list\u001b[0m\u001b[1;33m)\u001b[0m\u001b[1;33m\u001b[0m\u001b[1;33m\u001b[0m\u001b[0m\n\u001b[0;32m     14\u001b[0m \u001b[0mprint\u001b[0m\u001b[1;33m(\u001b[0m\u001b[1;34m\"File 'steam_id_list.csv' has been saved successfully!\"\u001b[0m\u001b[1;33m)\u001b[0m\u001b[1;33m\u001b[0m\u001b[1;33m\u001b[0m\u001b[0m\n",
      "\u001b[1;31mPermissionError\u001b[0m: [Errno 13] Permission denied: '../../gen'"
     ]
    }
   ],
   "source": [
    "#Code to collect all app id's in one library\n",
    "app_ids = []\n",
    "print(\"Creating a list of all IDs currently available on Steam\")\n",
    "for item in data_ids['applist']['apps']:\n",
    "    app_ids.append(item['appid'])\n",
    "\n",
    "print(\"List created sucessfully, the total number of IDs available on Steam is:\", len(app_ids),\".\")\n",
    "print(\"Call upon 'app_ids' to preview the full list of extracted IDs.\")\n",
    "\n",
    "print(\"Saving the Steam ID list in the 'data' folder as 'steam_id_list.csv'.\")\n",
    "#numpy.savetxt(\"../../gen/steam_id_list.csv\", app_ids,delimiter =\", \", fmt ='% s')\n",
    "with open(\"../../gen\", \"r\") as f:\n",
    "  data = json.dump(app_ids, steam_app_id_list)\n",
    "print(\"File 'steam_id_list.csv' has been saved successfully!\")"
   ]
  }
 ],
 "metadata": {
  "interpreter": {
   "hash": "e9f09fca4d15fa97f677e5901aabca61025ff22d892dc5a2f518eede0694e829"
  },
  "kernelspec": {
   "display_name": "Python 3.9.7 ('base')",
   "language": "python",
   "name": "python3"
  },
  "language_info": {
   "codemirror_mode": {
    "name": "ipython",
    "version": 3
   },
   "file_extension": ".py",
   "mimetype": "text/x-python",
   "name": "python",
   "nbconvert_exporter": "python",
   "pygments_lexer": "ipython3",
   "version": "3.9.7"
  },
  "orig_nbformat": 4
 },
 "nbformat": 4,
 "nbformat_minor": 2
}
