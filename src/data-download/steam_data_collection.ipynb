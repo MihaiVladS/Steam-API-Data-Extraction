{
 "cells": [
  {
   "cell_type": "code",
   "execution_count": 1,
   "metadata": {},
   "outputs": [],
   "source": [
    "#import libraries needed for this proces\n",
    "import requests\n",
    "from datetime import datetime\n",
    "import numpy\n",
    "import time\n",
    "import json\n",
    "from pathlib import Path\n",
    "import pandas as pd\n",
    "import sys"
   ]
  },
  {
   "cell_type": "code",
   "execution_count": 20,
   "metadata": {},
   "outputs": [
    {
     "name": "stdout",
     "output_type": "stream",
     "text": [
      "<_io.TextIOWrapper name='../../gen/steam_id_list.csv' mode='r' encoding='UTF-8'>\n"
     ]
    }
   ],
   "source": [
    "# app_ids = numpy.genfromtxt(\"../../gen/steam_id_list.csv\")\n",
    "# print(app_ids)\n",
    "#from pandas import read_csv\n",
    "#app_ids = read_csv('../../gen/steam_id_list.csv')\n",
    "\n"
   ]
  },
  {
   "cell_type": "code",
   "execution_count": 15,
   "metadata": {},
   "outputs": [],
   "source": [
    "#function to create an API request based on URL and  parameters\n",
    "def get_request(url, parameters=None):\n",
    "    print(\"Your request is being processed.\")\n",
    "    response = requests.get(url=url, params=parameters)\n",
    "    if response:\n",
    "        return response.json()\n",
    "        \n",
    "    else:\n",
    "        print(\"Request unsuccessful, retrying in 5 seconds.\")\n",
    "        time.sleep(5)\n",
    "        return get_request(url, parameters)\n",
    "    time.sleep(1)"
   ]
  },
  {
   "cell_type": "code",
   "execution_count": 17,
   "metadata": {},
   "outputs": [
    {
     "name": "stdout",
     "output_type": "stream",
     "text": [
      "Your request is being processed.\n",
      "Processing data pertaining to Steam ID:216938\n"
     ]
    }
   ],
   "source": [
    "## collecting the data with a for loop that checks if the response was a succes = True. and than takes the data attribute \n",
    "# feedback: seperate the raw data collection, and then do the parsing  \n",
    "# add timestamp \n",
    "# add logic that the id's arent run multiple times \n",
    "\n",
    "amount_app_ids = 10\n",
    "counter = 1 \n",
    "dataframe_raw = pd.DataFrame()\n",
    "dataframe_categories = pd.DataFrame()\n",
    "dataframe_package_groups =  pd.DataFrame()\n",
    "dataframe_genres =  pd.DataFrame()\n",
    "dataframe_screenshots =  pd.DataFrame()\n",
    "dataframe_movies =  pd.DataFrame()\n",
    "dataframe_achievements = pd.DataFrame()\n",
    "\n",
    "for i in app_ids: \n",
    "    url = \"http://store.steampowered.com/api/appdetails/\"\n",
    "    parameters = {\"appids\": {i}}\n",
    "    app_data = get_request(url, parameters=parameters)\n",
    "    id = str(i)\n",
    "    print(\"Processing data pertaining to Steam ID:\"+id)\n",
    "    response = app_data[id]\n",
    "    succes = response[\"success\"]\n",
    "    if (succes): \n",
    "        data_json = response[\"data\"]\n",
    "        result = pd.json_normalize(data_json)\n",
    "        dataframe_raw = pd.concat([dataframe_raw, result],ignore_index= True)    \n",
    "        try:\n",
    "            categories = pd.json_normalize(data_json,record_path = ['categories'], meta = [\"steam_appid\"], errors=\"ignore\")\n",
    "            dataframe_categories = pd.concat([dataframe_categories,categories], ignore_index= True)\n",
    "        except:\n",
    "            pass\n",
    "        try:\n",
    "            package_groups = pd.json_normalize(data_json,record_path = ['package_groups'], meta = [\"steam_appid\"], errors=\"ignore\")\n",
    "            dataframe_package_groups = pd.concat([dataframe_package_groups,package_groups], ignore_index= True)\n",
    "        except:\n",
    "            pass\n",
    "        try:\n",
    "            genres = pd.json_normalize(data_json,record_path = ['genres'], meta = [\"steam_appid\"], errors=\"ignore\")\n",
    "            dataframe_genres = pd.concat([dataframe_genres,genres], ignore_index= True)\n",
    "        except:\n",
    "            pass\n",
    "        try:\n",
    "            screenshots = pd.json_normalize(data_json,record_path = ['screenshots'], meta = [\"steam_appid\"], errors=\"ignore\")\n",
    "            dataframe_screenshots = pd.concat([dataframe_screenshots,screenshots], ignore_index= True)\n",
    "        except:\n",
    "            pass\n",
    "        try:\n",
    "            movies = pd.json_normalize(data_json,record_path = ['movies'], meta = [\"steam_appid\"], errors=\"ignore\")\n",
    "            dataframe_movies = pd.concat([dataframe_movies,movies], ignore_index= True)\n",
    "        except:\n",
    "            pass\n",
    "        try:\n",
    "            achievements = pd.json_normalize(data_json,record_path = ['achievements.highlighted'], meta = [\"steam_appid\"], errors=\"ignore\")\n",
    "            dataframe_achievements = pd.concat([dataframe_achievements,achievements], ignore_index= True)\n",
    "        except:\n",
    "            pass\n",
    "        counter = counter + 1 \n",
    "    if (counter > amount_app_ids):\n",
    "        break\n",
    "\n",
    "\n",
    "#print(\"Saving all data about the Steam ID's in the 'gen' folder as 'steam_data_collection'.\")\n",
    "#numpy.savetxt(\"../gen/full_steam_data.json\", dataframe_raw, delimiter=\", \", fmt = '% s')\n",
    "#print(\"File 'full_steam_data.json' has been saved successfully!\")"
   ]
  }
 ],
 "metadata": {
  "interpreter": {
   "hash": "e9f09fca4d15fa97f677e5901aabca61025ff22d892dc5a2f518eede0694e829"
  },
  "kernelspec": {
   "display_name": "Python 3.9.7 ('base')",
   "language": "python",
   "name": "python3"
  },
  "language_info": {
   "codemirror_mode": {
    "name": "ipython",
    "version": 3
   },
   "file_extension": ".py",
   "mimetype": "text/x-python",
   "name": "python",
   "nbconvert_exporter": "python",
   "pygments_lexer": "ipython3",
   "version": "3.9.7"
  },
  "orig_nbformat": 4
 },
 "nbformat": 4,
 "nbformat_minor": 2
}
